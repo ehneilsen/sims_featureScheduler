{
 "cells": [
  {
   "cell_type": "code",
   "execution_count": 1,
   "metadata": {},
   "outputs": [],
   "source": [
    "import numpy as np\n",
    "import matplotlib.pylab as plt\n",
    "import healpy as hp\n",
    "from lsst.sims.featureScheduler.mockTelem import Mock_observatory\n",
    "from lsst.sims.featureScheduler.schedulers import Core_scheduler\n",
    "from lsst.sims.featureScheduler.utils import standard_goals, calc_norm_factor, schema_converter\n",
    "import lsst.sims.featureScheduler.basis_functions as bf\n",
    "from lsst.sims.featureScheduler.surveys import (generate_dd_surveys, Greedy_survey,\n",
    "                                                Blob_survey, Pairs_survey_scripted)\n",
    "from lsst.sims.utils import (_hpid2RaDec, _raDec2Hpid)"
   ]
  },
  {
   "cell_type": "code",
   "execution_count": 2,
   "metadata": {},
   "outputs": [],
   "source": [
    "# Re-create the scheduler object as it was before"
   ]
  },
  {
   "cell_type": "code",
   "execution_count": 3,
   "metadata": {},
   "outputs": [],
   "source": [
    "def gen_greedy_surveys(nside):\n",
    "    \"\"\"\n",
    "    Make a quick set of greedy surveys\n",
    "    \"\"\"\n",
    "    target_map = standard_goals(nside=nside)\n",
    "    norm_factor = calc_norm_factor(target_map)\n",
    "    # Let's remove the bluer filters since this should only be near twilight\n",
    "    filters = ['r', 'i', 'z', 'y']\n",
    "    surveys = []\n",
    "\n",
    "    for filtername in filters:\n",
    "        bfs = []\n",
    "        bfs.append(bf.M5_diff_basis_function(filtername=filtername, nside=nside))\n",
    "        bfs.append(bf.Target_map_basis_function(filtername=filtername,\n",
    "                                                target_map=target_map[filtername],\n",
    "                                                out_of_bounds_val=np.nan, nside=nside,\n",
    "                                                norm_factor=norm_factor))\n",
    "        bfs.append(bf.Slewtime_basis_function(filtername=filtername, nside=nside))\n",
    "        bfs.append(bf.Strict_filter_basis_function(filtername=filtername))\n",
    "        # Masks, give these 0 weight\n",
    "        bfs.append(bf.Zenith_shadow_mask_basis_function(nside=nside, shadow_minutes=60., max_alt=76.))\n",
    "        bfs.append(bf.Moon_avoidance_basis_function(nside=nside, moon_distance=40.))\n",
    "        bfs.append(bf.Clouded_out_basis_function())\n",
    "\n",
    "        bfs.append(bf.Filter_loaded_basis_function(filternames=filtername))\n",
    "\n",
    "        weights = np.array([3.0, 0.3, 3., 3., 0., 0., 0., 0.])\n",
    "        surveys.append(Greedy_survey(bfs, weights, block_size=1, filtername=filtername,\n",
    "                                     dither=True, nside=nside, ignore_obs='DD'))\n",
    "\n",
    "    return surveys\n",
    "\n",
    "\n",
    "def generate_blobs(nside):\n",
    "    target_map = standard_goals(nside=nside)\n",
    "    norm_factor = calc_norm_factor(target_map)\n",
    "\n",
    "    # List to hold all the surveys (for easy plotting later)\n",
    "    surveys = []\n",
    "\n",
    "    # Set up observations to be taken in blocks\n",
    "    filter1s = ['u', 'g', 'r', 'i', 'z', 'y']\n",
    "    filter2s = [None, 'g', 'r', 'i', None, None]\n",
    "    # Ideal time between taking pairs\n",
    "    pair_time = 22.\n",
    "    times_needed = [pair_time, pair_time*2]\n",
    "    for filtername, filtername2 in zip(filter1s, filter2s):\n",
    "        bfs = []\n",
    "        bfs.append(bf.M5_diff_basis_function(filtername=filtername, nside=nside))\n",
    "        if filtername2 is not None:\n",
    "            bfs.append(bf.M5_diff_basis_function(filtername=filtername2, nside=nside))\n",
    "        bfs.append(bf.Target_map_basis_function(filtername=filtername,\n",
    "                                                target_map=target_map[filtername],\n",
    "                                                out_of_bounds_val=np.nan, nside=nside,\n",
    "                                                norm_factor=norm_factor))\n",
    "        if filtername2 is not None:\n",
    "            bfs.append(bf.Target_map_basis_function(filtername=filtername2,\n",
    "                                                    target_map=target_map[filtername2],\n",
    "                                                    out_of_bounds_val=np.nan, nside=nside,\n",
    "                                                    norm_factor=norm_factor))\n",
    "        bfs.append(bf.Slewtime_basis_function(filtername=filtername, nside=nside))\n",
    "        bfs.append(bf.Strict_filter_basis_function(filtername=filtername))\n",
    "        # Masks, give these 0 weight\n",
    "        bfs.append(bf.Zenith_shadow_mask_basis_function(nside=nside, shadow_minutes=60., max_alt=76.))\n",
    "        bfs.append(bf.Moon_avoidance_basis_function(nside=nside, moon_distance=30.))\n",
    "        bfs.append(bf.Clouded_out_basis_function())\n",
    "        filternames = [fn for fn in [filtername, filtername2] if fn is not None]\n",
    "        bfs.append(bf.Filter_loaded_basis_function(filternames=filternames))\n",
    "        if filtername2 is None:\n",
    "            time_needed = times_needed[0]\n",
    "        else:\n",
    "            time_needed = times_needed[1]\n",
    "        bfs.append(bf.Time_to_twilight_basis_function(time_needed=time_needed))\n",
    "        bfs.append(bf.Not_twilight_basis_function())\n",
    "        weights = np.array([3.0, 3.0, .3, .3, 3., 3., 0., 0., 0., 0., 0., 0.])\n",
    "        if filtername2 is None:\n",
    "            # Need to scale weights up so filter balancing still works properly.\n",
    "            weights = np.array([6.0, 0.6, 3., 3., 0., 0., 0., 0., 0., 0.])\n",
    "        if filtername2 is None:\n",
    "            survey_name = 'blob, %s' % filtername\n",
    "        else:\n",
    "            survey_name = 'blob, %s%s' % (filtername, filtername2)\n",
    "        surveys.append(Blob_survey(bfs, weights, filtername1=filtername, filtername2=filtername2,\n",
    "                                   ideal_pair_time=pair_time,\n",
    "                                   survey_note=survey_name, ignore_obs='DD', dither=True))\n",
    "\n",
    "    return surveys\n"
   ]
  },
  {
   "cell_type": "code",
   "execution_count": 4,
   "metadata": {},
   "outputs": [
    {
     "name": "stderr",
     "output_type": "stream",
     "text": [
      "WARNING: ErfaWarning: ERFA function \"d2dtf\" yielded 1 of \"dubious year (Note 5)\" [astropy._erfa.core]\n"
     ]
    }
   ],
   "source": [
    "nside = 32\n",
    "survey_length = 365.25*10  # Days\n",
    "years = int(survey_length/365.25)\n",
    "\n",
    "greedy = gen_greedy_surveys(nside)\n",
    "ddfs = generate_dd_surveys(nside=nside)\n",
    "blobs = generate_blobs(nside)\n",
    "\n",
    "surveys = [ddfs, blobs, greedy]\n",
    "\n",
    "n_visit_limit = None\n",
    "scheduler = Core_scheduler(surveys, nside=nside)\n",
    "observatory = Mock_observatory(nside=nside)"
   ]
  },
  {
   "cell_type": "code",
   "execution_count": 5,
   "metadata": {},
   "outputs": [],
   "source": [
    "# Load observations back into an array\n",
    "sco = schema_converter()\n",
    "observations = sco.opsim2obs('blob_10.db')"
   ]
  },
  {
   "cell_type": "code",
   "execution_count": 6,
   "metadata": {},
   "outputs": [
    {
     "data": {
      "text/plain": [
       "(0, 0.3)"
      ]
     },
     "execution_count": 6,
     "metadata": {},
     "output_type": "execute_result"
    },
    {
     "data": {
      "image/png": "[encoded data removed]",
      "text/plain": [
       "<matplotlib.figure.Figure at 0x812b37908>"
      ]
     },
     "metadata": {},
     "output_type": "display_data"
    }
   ],
   "source": [
    "z = np.where(observations['filter'] == 'z')\n",
    "plt.plot(observations['RA'][z], observations['dec'][z], 'ko')\n",
    "strange = np.where((observations['dec'] > 0.1) & (observations['RA'] > 5.25) &\n",
    "                   (observations['RA'] < 6) & (observations['dec'] < 0.2))\n",
    "plt.plot(observations['RA'][strange], observations['dec'][strange], 'ro')\n",
    "plt.xlim([4,6])\n",
    "plt.ylim([0,.3])"
   ]
  },
  {
   "cell_type": "code",
   "execution_count": null,
   "metadata": {},
   "outputs": [],
   "source": []
  },
  {
   "cell_type": "code",
   "execution_count": 7,
   "metadata": {},
   "outputs": [
    {
     "data": {
      "text/plain": [
       "(array([ 707003,  707004,  707005,  707006,  731368,  928154,  928155,\n",
       "         928156,  928157,  928158, 2359475, 2359476, 2359495, 2359496]),)"
      ]
     },
     "execution_count": 7,
     "metadata": {},
     "output_type": "execute_result"
    }
   ],
   "source": [
    "strange"
   ]
  },
  {
   "cell_type": "code",
   "execution_count": 8,
   "metadata": {},
   "outputs": [
    {
     "data": {
      "text/plain": [
       "4.9107666015625"
      ]
     },
     "execution_count": 8,
     "metadata": {},
     "output_type": "execute_result"
    }
   ],
   "source": [
    "observations[strange[0][0]]['slewtime']"
   ]
  },
  {
   "cell_type": "code",
   "execution_count": 9,
   "metadata": {},
   "outputs": [
    {
     "data": {
      "text/plain": [
       "array([ 33.5335865 ,  31.88107106,  28.95188436,  30.74721524,\n",
       "        30.30887103,  37.62574402,  35.6336476 ,  33.73176679,\n",
       "        31.90857141,  30.88739648,  32.90506019,  29.97336088,\n",
       "        32.97556715,  30.04195756])"
      ]
     },
     "execution_count": 9,
     "metadata": {},
     "output_type": "execute_result"
    }
   ],
   "source": [
    "np.degrees(observations[strange[0]]['moonDist'])"
   ]
  },
  {
   "cell_type": "code",
   "execution_count": 10,
   "metadata": {},
   "outputs": [],
   "source": [
    "# Play the observations back into the scheduler. This needs to happen in order!\n",
    "for obs in observations[0:strange[0][0]-4]:\n",
    "    scheduler.add_observation(obs)"
   ]
  },
  {
   "cell_type": "code",
   "execution_count": 11,
   "metadata": {},
   "outputs": [
    {
     "data": {
      "text/plain": [
       "(706998,  5.5628964, -0.15719248,  60926.10865559,  60926.13424187,  30., 'z',  3.26429459, 2,  1.07404401,  0.391388,  0.57225203,  0.63291001,  17.90710118, 1086,  4.81186533,  34.,  0.05095606,  22.85624003,  1.19730882,  0.13294843,  3.25779759,  0.,  0.81448052, -0.90443188, 'blob, z', -1, 0, 1,  21.05234018,  6.27668832,  1.01922481,  4.12254442,  0.,  0.,  6.13100498, -0.05775611,  0.57318903,  0.7342279,  97.02987043)"
      ]
     },
     "execution_count": 11,
     "metadata": {},
     "output_type": "execute_result"
    }
   ],
   "source": [
    "obs"
   ]
  },
  {
   "cell_type": "code",
   "execution_count": 12,
   "metadata": {},
   "outputs": [
    {
     "name": "stderr",
     "output_type": "stream",
     "text": [
      "/Users/yoachim/gitRepos/sims_featureScheduler/python/lsst/sims/featureScheduler/mockTelem/mock_observatory.py:443: UserWarning: overriding requested rotSkyPos value\n",
      "  warnings.warn('overriding requested rotSkyPos value')\n"
     ]
    }
   ],
   "source": [
    "# Set the observatory to the correct state. Takes a while because it has to load the sky brightness file.\n",
    "observatory.mjd = obs['mjd']\n",
    "# Observatory starts parked, so need to send an expose command to slew to the correct position\n",
    "temp = observatory.observe(obs)\n",
    "# It took some time to make that slew, so reset the time again\n",
    "observatory.mjd = obs['mjd']\n",
    "obs_worked, should_match_obs, new_night = observatory.observe(obs)\n"
   ]
  },
  {
   "cell_type": "code",
   "execution_count": 13,
   "metadata": {},
   "outputs": [
    {
     "data": {
      "text/plain": [
       "(True, False)"
      ]
     },
     "execution_count": 13,
     "metadata": {},
     "output_type": "execute_result"
    }
   ],
   "source": [
    "obs_worked, new_night"
   ]
  },
  {
   "cell_type": "code",
   "execution_count": 14,
   "metadata": {},
   "outputs": [
    {
     "data": {
      "text/plain": [
       "(1,  5.5628964, -0.15719248,  60926.11049278,  60926.13424187,  30., 'z',  3.23100951, 2,  1.07346337,  0.43105,  0.59476044,  0.66029251,  17.90736337, 1086,  2.73345423,  34.,  0.,  22.81452233,  1.19869154,  0.09497132,  3.22463169,  0.,  0.82263899, -0.91269266, 'blob, z', -1, 0, 1,  21.09655353,  6.27680749,  1.00784204,  4.10963708,  2.90634157,  0.10070319,  6.13127291, -0.05753938,  0.5734944,  2.65742238,  97.02011617)"
      ]
     },
     "execution_count": 14,
     "metadata": {},
     "output_type": "execute_result"
    }
   ],
   "source": [
    "# Check that we are indeed able to repeat the observation we thought\n",
    "should_match_obs"
   ]
  },
  {
   "cell_type": "code",
   "execution_count": 15,
   "metadata": {},
   "outputs": [
    {
     "name": "stderr",
     "output_type": "stream",
     "text": [
      "/Users/yoachim/gitRepos/sims_featureScheduler/python/lsst/sims/featureScheduler/mockTelem/mock_observatory.py:279: RuntimeWarning: invalid value encountered in less\n",
      "  slewtimes[np.where(slewtimes < 0)] = np.nan\n"
     ]
    }
   ],
   "source": [
    "# update the scheduler conditions\n",
    "scheduler.update_conditions(observatory.return_conditions())"
   ]
  },
  {
   "cell_type": "code",
   "execution_count": 16,
   "metadata": {},
   "outputs": [
    {
     "name": "stderr",
     "output_type": "stream",
     "text": [
      "/Users/yoachim/lsstp3/stack/miniconda3-4.3.21-10a4fa6/DarwinX86/healpy/1.10.3.lsst1+6/lib/python/healpy-1.10.3-py3.6-macosx-10.7-x86_64.egg/healpy/pixelfunc.py:304: RuntimeWarning: invalid value encountered in less_equal\n",
      "  return np.absolute(m - badval) <= atol + rtol * np.absolute(badval)\n",
      "/Users/yoachim/lsstp3/python/miniconda3-4.3.21/lib/python3.6/site-packages/numpy/ma/core.py:2344: RuntimeWarning: invalid value encountered in less_equal\n",
      "  mabs(xnew - value), atol + rtol * mabs(value))\n",
      "/Users/yoachim/lsstp3/stack/miniconda3-4.3.21-10a4fa6/DarwinX86/healpy/1.10.3.lsst1+6/lib/python/healpy-1.10.3-py3.6-macosx-10.7-x86_64.egg/healpy/projaxes.py:1049: RuntimeWarning: invalid value encountered in less\n",
      "  result.data[result.data<0]=0.0\n",
      "/Users/yoachim/lsstp3/stack/miniconda3-4.3.21-10a4fa6/DarwinX86/healpy/1.10.3.lsst1+6/lib/python/healpy-1.10.3-py3.6-macosx-10.7-x86_64.egg/healpy/projaxes.py:1050: RuntimeWarning: invalid value encountered in greater\n",
      "  result.data[result.data>1]=1.0\n"
     ]
    },
    {
     "data": {
      "image/png": "[encoded data removed]",
      "text/plain": [
       "<matplotlib.figure.Figure at 0x1319889be0>"
      ]
     },
     "metadata": {},
     "output_type": "display_data"
    }
   ],
   "source": [
    "# Now we can look at individual reward functions to see what's going on.\n",
    "# Here's the blob survey\n",
    "hp.mollview(scheduler.survey_lists[1][-2].calc_reward_function(scheduler.conditions))"
   ]
  },
  {
   "cell_type": "code",
   "execution_count": 17,
   "metadata": {},
   "outputs": [
    {
     "name": "stderr",
     "output_type": "stream",
     "text": [
      "/Users/yoachim/lsstp3/stack/miniconda3-4.3.21-10a4fa6/DarwinX86/healpy/1.10.3.lsst1+6/lib/python/healpy-1.10.3-py3.6-macosx-10.7-x86_64.egg/healpy/pixelfunc.py:304: RuntimeWarning: invalid value encountered in less_equal\n",
      "  return np.absolute(m - badval) <= atol + rtol * np.absolute(badval)\n",
      "/Users/yoachim/lsstp3/python/miniconda3-4.3.21/lib/python3.6/site-packages/numpy/ma/core.py:2344: RuntimeWarning: invalid value encountered in less_equal\n",
      "  mabs(xnew - value), atol + rtol * mabs(value))\n",
      "/Users/yoachim/lsstp3/stack/miniconda3-4.3.21-10a4fa6/DarwinX86/healpy/1.10.3.lsst1+6/lib/python/healpy-1.10.3-py3.6-macosx-10.7-x86_64.egg/healpy/projaxes.py:1049: RuntimeWarning: invalid value encountered in less\n",
      "  result.data[result.data<0]=0.0\n",
      "/Users/yoachim/lsstp3/stack/miniconda3-4.3.21-10a4fa6/DarwinX86/healpy/1.10.3.lsst1+6/lib/python/healpy-1.10.3-py3.6-macosx-10.7-x86_64.egg/healpy/projaxes.py:1050: RuntimeWarning: invalid value encountered in greater\n",
      "  result.data[result.data>1]=1.0\n"
     ]
    },
    {
     "data": {
      "image/png": "[encoded data removed]",
      "text/plain": [
       "<matplotlib.figure.Figure at 0x13bb589c50>"
      ]
     },
     "metadata": {},
     "output_type": "display_data"
    }
   ],
   "source": [
    "# And the greedy algo. Looks like the moon is cutting out a large chunk.\n",
    "hp.mollview(scheduler.survey_lists[2][-2].calc_reward_function(scheduler.conditions))"
   ]
  },
  {
   "cell_type": "code",
   "execution_count": null,
   "metadata": {},
   "outputs": [],
   "source": []
  },
  {
   "cell_type": "code",
   "execution_count": null,
   "metadata": {},
   "outputs": [],
   "source": []
  },
  {
   "cell_type": "code",
   "execution_count": null,
   "metadata": {},
   "outputs": [],
   "source": []
  },
  {
   "cell_type": "code",
   "execution_count": null,
   "metadata": {},
   "outputs": [],
   "source": []
  }
 ],
 "metadata": {
  "kernelspec": {
   "display_name": "Python 3",
   "language": "python",
   "name": "python3"
  },
  "language_info": {
   "codemirror_mode": {
    "name": "ipython",
    "version": 3
   },
   "file_extension": ".py",
   "mimetype": "text/x-python",
   "name": "python",
   "nbconvert_exporter": "python",
   "pygments_lexer": "ipython3",
   "version": "3.6.2"
  }
 },
 "nbformat": 4,
 "nbformat_minor": 2
}
