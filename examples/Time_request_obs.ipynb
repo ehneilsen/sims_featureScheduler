{
 "cells": [
  {
   "cell_type": "code",
   "execution_count": 1,
   "metadata": {},
   "outputs": [],
   "source": [
    "import numpy as np\n",
    "import lsst.sims.featureScheduler as fs\n",
    "from lsst.sims.speedObservatory import Speed_observatory\n",
    "import matplotlib.pylab as plt\n",
    "import healpy as hp\n",
    "import timeit"
   ]
  },
  {
   "cell_type": "code",
   "execution_count": 2,
   "metadata": {},
   "outputs": [
    {
     "name": "stdout",
     "output_type": "stream",
     "text": [
      "None\n"
     ]
    }
   ],
   "source": [
    "# set up a baseline like survey\n",
    "\n",
    "nside = fs.set_default_nside(nside=32)\n",
    "\n",
    "survey_length = 2.2 #365.25*10  # days\n",
    "\n",
    "# Define what we want the final visit ratio map to look like\n",
    "years = np.round(survey_length/365.25)\n",
    "target_map = fs.standard_goals(nside=nside)\n",
    "filters = ['u', 'g', 'r', 'i', 'z', 'y']\n",
    "surveys = []\n",
    "\n",
    "for filtername in filters:\n",
    "    bfs = []\n",
    "    bfs.append(fs.M5_diff_basis_function(filtername=filtername, nside=nside))\n",
    "    bfs.append(fs.Target_map_basis_function(filtername=filtername,\n",
    "                                            target_map=target_map[filtername],\n",
    "                                            out_of_bounds_val=hp.UNSEEN, nside=nside))\n",
    "\n",
    "    bfs.append(fs.North_south_patch_basis_function(zenith_min_alt=50., nside=nside))\n",
    "    #bfs.append(fs.Zenith_mask_basis_function(maxAlt=78., penalty=-100, nside=nside))\n",
    "    bfs.append(fs.Slewtime_basis_function(filtername=filtername, nside=nside))\n",
    "    bfs.append(fs.Strict_filter_basis_function(filtername=filtername))\n",
    "\n",
    "    weights = np.array([3.0, 0.3, 1., 3., 3.])\n",
    "    surveys.append(fs.Greedy_survey_fields(bfs, weights, block_size=1, filtername=filtername,\n",
    "                                           dither=True, nside=nside))\n",
    "\n",
    "surveys.append(fs.Pairs_survey_scripted([], [], ignore_obs='DD'))\n",
    "\n",
    "# Set up the DD\n",
    "dd_surveys = fs.generate_dd_surveys()\n",
    "surveys.extend(dd_surveys)\n",
    "\n",
    "scheduler = fs.Core_scheduler(surveys, nside=nside)\n",
    "observatory = Speed_observatory(nside=nside)\n",
    "# observatory, scheduler, observations = fs.sim_runner(observatory, scheduler,\n",
    "#                                                      survey_length=survey_length,\n",
    "#                                                      filename='feature_baseline_%iyrs.db' % years,\n",
    "#                                                      delete_past=True)\n"
   ]
  },
  {
   "cell_type": "code",
   "execution_count": 3,
   "metadata": {},
   "outputs": [
    {
     "data": {
      "text/plain": [
       "True"
      ]
     },
     "execution_count": 3,
     "metadata": {},
     "output_type": "execute_result"
    }
   ],
   "source": [
    "# Check that there's nothing in the queue\n",
    "len(scheduler.queue) == 0"
   ]
  },
  {
   "cell_type": "code",
   "execution_count": 5,
   "metadata": {},
   "outputs": [
    {
     "name": "stderr",
     "output_type": "stream",
     "text": [
      "/home/opsim/repos/sims_ocs/python/lsst/sims/ocs/environment/seeing_model.py:61: RuntimeWarning: invalid value encountered in power\n",
      "  airmass_correction = numpy.power(airmass, self.AIRMASS_CORRECTION_POWER)\n"
     ]
    },
    {
     "name": "stdout",
     "output_type": "stream",
     "text": [
      "(0.008624446392059327, ' s')\n"
     ]
    }
   ],
   "source": [
    "number = 20\n",
    "scheduler.update_conditions(observatory.return_status())\n",
    "t = timeit.timeit(\"scheduler.request_observation()\", setup=\"from __main__ import scheduler\", number=number)\n",
    "print(t/number, ' s')"
   ]
  },
  {
   "cell_type": "code",
   "execution_count": 6,
   "metadata": {},
   "outputs": [
    {
     "name": "stdout",
     "output_type": "stream",
     "text": [
      "(0.008941447734832764, ' s')\n"
     ]
    }
   ],
   "source": [
    "# Let's see what happens if we wipe out the pair queue\n",
    "scheduler.surveys[6].observing_queue = []\n",
    "t = timeit.timeit(\"scheduler.request_observation()\", setup=\"from __main__ import scheduler\", number=number)\n",
    "print(t/number, ' s')"
   ]
  },
  {
   "cell_type": "code",
   "execution_count": 7,
   "metadata": {},
   "outputs": [],
   "source": [
    "a = scheduler.request_observation()"
   ]
  },
  {
   "cell_type": "code",
   "execution_count": 8,
   "metadata": {},
   "outputs": [
    {
     "name": "stdout",
     "output_type": "stream",
     "text": [
      "[ ( 0.73936289,  0.0495052,  0.,  30., u'r',  0., 2,  0.,  0.,  0.,  0., 0,  0.,  0.,  0.,  0.,  0.,  0.,  0., u'', 2778, 1)]\n"
     ]
    }
   ],
   "source": [
    "print(a)"
   ]
  },
  {
   "cell_type": "code",
   "execution_count": 9,
   "metadata": {},
   "outputs": [
    {
     "data": {
      "text/plain": [
       "{'FWHM_geometric_g': array([        nan,         nan,         nan, ...,  1.03159181,\n",
       "         1.06571809,  1.08452104]),\n",
       " 'FWHM_geometric_i': array([        nan,         nan,         nan, ...,  0.90210961,\n",
       "         0.93195246,  0.94839532]),\n",
       " 'FWHM_geometric_r': array([        nan,         nan,         nan, ...,  0.95582432,\n",
       "         0.98744412,  1.00486605]),\n",
       " 'FWHM_geometric_u': array([        nan,         nan,         nan, ...,  1.11984331,\n",
       "         1.15688906,  1.17730058]),\n",
       " 'FWHM_geometric_y': array([        nan,         nan,         nan, ...,  0.83635626,\n",
       "         0.86402391,  0.87926828]),\n",
       " 'FWHM_geometric_z': array([        nan,         nan,         nan, ...,  0.86464166,\n",
       "         0.89324503,  0.90900496]),\n",
       " 'FWHMeff_g': array([        nan,         nan,         nan, ...,  1.39751492,\n",
       "         1.44374637,  1.46921905]),\n",
       " 'FWHMeff_i': array([        nan,         nan,         nan, ...,  1.2659622 ,\n",
       "         1.30784172,  1.33091657]),\n",
       " 'FWHMeff_r': array([        nan,         nan,         nan, ...,  1.31996991,\n",
       "         1.36363607,  1.38769533]),\n",
       " 'FWHMeff_u': array([        nan,         nan,         nan, ...,  1.48954789,\n",
       "         1.5388239 ,  1.56597408]),\n",
       " 'FWHMeff_y': array([        nan,         nan,         nan, ...,  1.20112123,\n",
       "         1.24085574,  1.26274872]),\n",
       " 'FWHMeff_z': array([        nan,         nan,         nan, ...,  1.22883003,\n",
       "         1.26948118,  1.29187922]),\n",
       " 'RA': array([ 1.66480238]),\n",
       " 'airmass': array([ -1.63750000e+30,  -1.63750000e+30,  -1.63750000e+30, ...,\n",
       "          1.90654709e+00,   2.01282007e+00,   2.07235600e+00]),\n",
       " 'clouds': array([ 0.]),\n",
       " 'dec': array([-0.51697272]),\n",
       " 'filter': u'z',\n",
       " 'last_twilight_end': 59582.059874504645,\n",
       " 'lmst': array([ 7.81789916]),\n",
       " 'mjd': array([ 59582.23662037]),\n",
       " 'moonAlt': -0.60109930665742539,\n",
       " 'next_twilight_end': 59583.059886834984,\n",
       " 'next_twilight_start': 59582.33927986322,\n",
       " 'night': array([2]),\n",
       " 'skybrightness': {'g': array([ -1.63750000e+30,  -1.63750000e+30,  -1.63750000e+30, ...,\n",
       "           2.19519614e+01,   2.19140437e+01,   2.19053049e+01]),\n",
       "  'i': array([ -1.63750000e+30,  -1.63750000e+30,  -1.63750000e+30, ...,\n",
       "           1.98289150e+01,   1.97800730e+01,   1.97596650e+01]),\n",
       "  'r': array([ -1.63750000e+30,  -1.63750000e+30,  -1.63750000e+30, ...,\n",
       "           2.08356714e+01,   2.07918137e+01,   2.07772339e+01]),\n",
       "  'u': array([ -1.63750000e+30,  -1.63750000e+30,  -1.63750000e+30, ...,\n",
       "           2.26253622e+01,   2.26220831e+01,   2.26264273e+01]),\n",
       "  'y': array([ -1.63750000e+30,  -1.63750000e+30,  -1.63750000e+30, ...,\n",
       "           1.76050655e+01,   1.75555668e+01,   1.75323424e+01]),\n",
       "  'z': array([ -1.63750000e+30,  -1.63750000e+30,  -1.63750000e+30, ...,\n",
       "           1.88204920e+01,   1.87706930e+01,   1.87481867e+01])},\n",
       " 'slewtimes': array([ -1.63750000e+30,  -1.63750000e+30,  -1.63750000e+30, ...,\n",
       "          6.09166461e+01,   6.16377565e+01,   6.02291660e+01]),\n",
       " 'sunAlt': -0.61756501917889084}"
      ]
     },
     "execution_count": 9,
     "metadata": {},
     "output_type": "execute_result"
    }
   ],
   "source": [
    "observatory.return_status()"
   ]
  },
  {
   "cell_type": "code",
   "execution_count": 10,
   "metadata": {},
   "outputs": [
    {
     "name": "stdout",
     "output_type": "stream",
     "text": [
      "None\n",
      "(0.008386945724487305, ' s')\n"
     ]
    }
   ],
   "source": [
    "target_maps = {}\n",
    "nside = fs.set_default_nside(nside=32)  # Required\n",
    "\n",
    "target_maps['u'] = fs.generate_goal_map(NES_fraction=0.,\n",
    "                                        WFD_fraction=0.31, SCP_fraction=0.15,\n",
    "                                        GP_fraction=0.15, nside=nside,\n",
    "                                        generate_id_map=True)\n",
    "target_maps['g'] = fs.generate_goal_map(NES_fraction=0.2,\n",
    "                                        WFD_fraction=0.44, SCP_fraction=0.15,\n",
    "                                        GP_fraction=0.15, nside=nside,\n",
    "                                        generate_id_map=True)\n",
    "target_maps['r'] = fs.generate_goal_map(NES_fraction=0.46,\n",
    "                                        WFD_fraction=1.0, SCP_fraction=0.15,\n",
    "                                        GP_fraction=0.15, nside=nside,\n",
    "                                        generate_id_map=True)\n",
    "target_maps['i'] = fs.generate_goal_map(NES_fraction=0.46,\n",
    "                                        WFD_fraction=1.0, SCP_fraction=0.15,\n",
    "                                        GP_fraction=0.15, nside=nside,\n",
    "                                        generate_id_map=True)\n",
    "target_maps['z'] = fs.generate_goal_map(NES_fraction=0.4,\n",
    "                                        WFD_fraction=0.9, SCP_fraction=0.15,\n",
    "                                        GP_fraction=0.15, nside=nside,\n",
    "                                        generate_id_map=True)\n",
    "target_maps['y'] = fs.generate_goal_map(NES_fraction=0.,\n",
    "                                        WFD_fraction=0.9, SCP_fraction=0.15,\n",
    "                                        GP_fraction=0.15, nside=nside,\n",
    "                                        generate_id_map=True)\n",
    "\n",
    "filters = ['u', 'g', 'r', 'i', 'z', 'y']\n",
    "surveys = []\n",
    "\n",
    "for filtername in filters:\n",
    "    bfs = []\n",
    "    bfs.append(fs.M5_diff_basis_function(filtername=filtername, nside=nside))\n",
    "    # The position of this bfs must be passed to Driver (see furthermore) for logical reasons\n",
    "    bfs.append(fs.Target_map_basis_function(filtername=filtername,\n",
    "                                            target_map=target_maps[filtername][0],\n",
    "                                            id_map=target_maps[filtername][1],\n",
    "                                            name_list=target_maps[filtername][2],\n",
    "                                            out_of_bounds_val=hp.UNSEEN, nside=nside))\n",
    "\n",
    "    bfs.append(fs.North_south_patch_basis_function(zenith_min_alt=50., nside=nside))\n",
    "    # bfs.append(fs.Zenith_mask_basis_function(maxAlt=78., penalty=-100, nside=nside))\n",
    "    bfs.append(fs.Slewtime_basis_function(filtername=filtername, nside=nside))\n",
    "    bfs.append(fs.Strict_filter_basis_function(filtername=filtername))\n",
    "\n",
    "    weights = np.array([3.0, 0.5, 1., 3., 3.])\n",
    "#     surveys.append(fs.Greedy_survey_fields(bfs, weights, block_size=1, filtername=filtername, dither=False,\n",
    "#                                            nside=nside, smoothing_kernel=9,\n",
    "#                                            tag_fields=True, tag_map=target_maps[filtername][1]))\n",
    "    surveys.append(fs.Greedy_survey_fields(bfs, weights, block_size=1, filtername=filtername,\n",
    "                                       dither=True, nside=nside))\n",
    "\n",
    "\n",
    "\n",
    "scheduler = fs.Core_scheduler(surveys, nside=nside)  # Required\n",
    "from lsst.sims.speedObservatory import Speed_observatory\n",
    "import timeit\n",
    "\n",
    "number = 20\n",
    "observatory = Speed_observatory(nside=nside)\n",
    "scheduler.update_conditions(observatory.return_status())\n",
    "t = timeit.timeit(\"scheduler.request_observation()\", setup=\"from %s import scheduler\" % __name__, number=number)\n",
    "print(t/number, ' s')"
   ]
  },
  {
   "cell_type": "code",
   "execution_count": null,
   "metadata": {},
   "outputs": [],
   "source": []
  }
 ],
 "metadata": {
  "kernelspec": {
   "display_name": "Python 2",
   "language": "python",
   "name": "python2"
  },
  "language_info": {
   "codemirror_mode": {
    "name": "ipython",
    "version": 2
   },
   "file_extension": ".py",
   "mimetype": "text/x-python",
   "name": "python",
   "nbconvert_exporter": "python",
   "pygments_lexer": "ipython2",
   "version": "2.7.14"
  }
 },
 "nbformat": 4,
 "nbformat_minor": 2
}
