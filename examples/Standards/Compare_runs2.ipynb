{
 "cells": [
  {
   "cell_type": "code",
   "execution_count": 1,
   "metadata": {
    "collapsed": true
   },
   "outputs": [],
   "source": [
    "%matplotlib inline\n",
    "import numpy as np\n",
    "import matplotlib.pylab as plt\n",
    "import lsst.sims.maf.db as db\n",
    "import lsst.sims.maf.metrics as metrics\n",
    "import lsst.sims.maf.slicers as slicers\n",
    "import lsst.sims.maf.stackers as stackers\n",
    "import lsst.sims.maf.plots as plots\n",
    "import lsst.sims.maf.metricBundles as metricBundles\n",
    "import lsst.sims.maf.utils as utils"
   ]
  },
  {
   "cell_type": "code",
   "execution_count": 2,
   "metadata": {
    "collapsed": true
   },
   "outputs": [],
   "source": [
    "class BruteOSFMetric(metrics.BaseMetric):\n",
    "    \"\"\"Assume I can't trust the slewtime or visittime colums\"\"\"\n",
    "    def __init__(self, metricName='BruteOSFMetric',\n",
    "            expTimeCol='expTime', mjdCol='expMJD', maxgap=10., fudge=0, **kwargs):\n",
    "        self.expTimeCol = expTimeCol\n",
    "        self.maxgap = maxgap/60./24. # convert from min to days\n",
    "        self.mjdCol = mjdCol\n",
    "        self.fudge = fudge\n",
    "        super(BruteOSFMetric, self).__init__(col=[self.expTimeCol, mjdCol],\n",
    "                                                        metricName=metricName, units='OpenShutter/TotalTime',\n",
    "                                                        **kwargs)\n",
    "                                                                                                        \n",
    "    def run(self, dataSlice, slicePoint=None):\n",
    "        times = np.sort(dataSlice[self.mjdCol])\n",
    "        diff = np.diff(times)\n",
    "        good = np.where(diff < self.maxgap)\n",
    "        openTime = np.sum(diff[good])*24.*3600.\n",
    "        result = np.sum(dataSlice[self.expTimeCol]+self.fudge) / float(openTime)\n",
    "        return result"
   ]
  },
  {
   "cell_type": "code",
   "execution_count": null,
   "metadata": {
    "collapsed": true
   },
   "outputs": [],
   "source": [
    "conns = []\n",
    "colmap_dict = {'slewtime': 'slewtime', 'exptime': 'exptime', 'visittime': 'exptime', 'mjd':'mjd'}\n",
    "\n",
    "files = ['one_filter_south.db','one_filter_north.db',  'one_filter.db',\n",
    "         'one_filter_dd.db', 'six_filter.db', 'one_filter_pairs.db', 'one_filter_north_pairs.db',\n",
    "         'one_filter_10yr.db', 'one_filter_dither.db', 'rolling_1.db', 'rolling_2.db', 'full_nside32_fast_10.db']\n",
    "labels=['South', 'North',  'Full Sky', 'DD', '6 Filters', 'Pairs', 'North Pairs', '10-year',\n",
    "        'Dithered', 'Rolling 1yr', 'Rolling 2yr', '6 filt+DD, dithered, 10 years']\n",
    "\n",
    "conns = [db.Database(file) for file in files]"
   ]
  },
  {
   "cell_type": "code",
   "execution_count": null,
   "metadata": {},
   "outputs": [
    {
     "name": "stdout",
     "output_type": "stream",
     "text": [
      "Healpix slicer using NSIDE=128, approximate resolution 27.483891 arcminutes\n",
      "Querying database SummaryAllProps with no constraint for columns ['exptime', 'dec', 'RA', 'airmass', 'mjd'].\n",
      "Found 304119 visits\n",
      "Running:  ['one_filter_south_db_BruteOSFMetric_UNIS', 'one_filter_south_db_Median_normairmass_UNIS']\n",
      "Completed metric generation.\n",
      "Running:  ['one_filter_south_db_PairFraction_HEAL']\n",
      "Completed metric generation.\n",
      "Running reduce methods.\n",
      "Running summary statistics.\n",
      "Completed.\n",
      "Plotting figures with \"\" constraint now.\n",
      "monopole: -0.652408  dipole: lon: 132.79, lat: -83.4893, amp: 1.105\n",
      "Plotting complete.\n",
      "Healpix slicer using NSIDE=128, approximate resolution 27.483891 arcminutes\n",
      "Querying database SummaryAllProps with no constraint for columns ['exptime', 'dec', 'RA', 'airmass', 'mjd'].\n",
      "Found 293802 visits\n",
      "Running:  ['one_filter_north_db_BruteOSFMetric_UNIS', 'one_filter_north_db_Median_normairmass_UNIS']\n",
      "Completed metric generation.\n",
      "Running:  ['one_filter_north_db_PairFraction_HEAL']\n",
      "Completed metric generation.\n",
      "Running reduce methods.\n",
      "Running summary statistics.\n",
      "Completed.\n",
      "Plotting figures with \"\" constraint now.\n",
      "monopole: 0.0773052  dipole: lon: -147.526, lat: 68.5, amp: 0.138235\n",
      "Plotting complete.\n",
      "Healpix slicer using NSIDE=128, approximate resolution 27.483891 arcminutes\n",
      "Querying database SummaryAllProps with no constraint for columns ['exptime', 'dec', 'RA', 'airmass', 'mjd'].\n",
      "Found 291944 visits\n",
      "Running:  ['one_filter_db_BruteOSFMetric_UNIS', 'one_filter_db_Median_normairmass_UNIS']\n",
      "Completed metric generation.\n",
      "Running:  ['one_filter_db_PairFraction_HEAL']\n",
      "Completed metric generation.\n",
      "Running reduce methods.\n",
      "Running summary statistics.\n",
      "Completed.\n",
      "Plotting figures with \"\" constraint now.\n",
      "monopole: 0.0742612  dipole: lon: 167.913, lat: -47.9928, amp: 0.0820148\n",
      "Plotting complete.\n",
      "Healpix slicer using NSIDE=128, approximate resolution 27.483891 arcminutes\n",
      "Querying database SummaryAllProps with no constraint for columns ['exptime', 'dec', 'RA', 'airmass', 'mjd'].\n",
      "Found 290912 visits\n",
      "Running:  ['one_filter_dd_db_BruteOSFMetric_UNIS', 'one_filter_dd_db_Median_normairmass_UNIS']\n",
      "Completed metric generation.\n",
      "Running:  ['one_filter_dd_db_PairFraction_HEAL']\n",
      "Completed metric generation.\n",
      "Running reduce methods.\n",
      "Running summary statistics.\n",
      "Completed.\n",
      "Plotting figures with \"\" constraint now.\n",
      "monopole: 0.073082  dipole: lon: 165.329, lat: -48.597, amp: 0.0832775\n",
      "Plotting complete.\n",
      "Healpix slicer using NSIDE=128, approximate resolution 27.483891 arcminutes\n",
      "Querying database SummaryAllProps with no constraint for columns ['exptime', 'dec', 'RA', 'airmass', 'mjd'].\n",
      "Found 291344 visits\n",
      "Running:  ['six_filter_db_BruteOSFMetric_UNIS', 'six_filter_db_Median_normairmass_UNIS']\n",
      "Completed metric generation.\n",
      "Running:  ['six_filter_db_PairFraction_HEAL']\n",
      "Completed metric generation.\n",
      "Running reduce methods.\n",
      "Running summary statistics.\n",
      "Completed.\n",
      "Plotting figures with \"\" constraint now.\n",
      "monopole: 0.163925  dipole: lon: -54.4131, lat: -78.7043, amp: 0.116423\n",
      "Plotting complete.\n",
      "Healpix slicer using NSIDE=128, approximate resolution 27.483891 arcminutes\n",
      "Querying database SummaryAllProps with no constraint for columns ['exptime', 'dec', 'RA', 'airmass', 'mjd'].\n",
      "Found 271912 visits\n",
      "Running:  ['one_filter_pairs_db_BruteOSFMetric_UNIS', 'one_filter_pairs_db_Median_normairmass_UNIS']\n",
      "Completed metric generation.\n",
      "Running:  ['one_filter_pairs_db_PairFraction_HEAL']\n",
      "Completed metric generation.\n",
      "Running reduce methods.\n",
      "Running summary statistics.\n",
      "Completed.\n",
      "Plotting figures with \"\" constraint now.\n"
     ]
    },
    {
     "name": "stderr",
     "output_type": "stream",
     "text": [
      "/Users/yoachim/gitRepos/sims_maf/python/lsst/sims/maf/utils/mafUtils.py:60: UserWarning: Optimal bin calculation tried to make 383 bins, returning 200\n",
      "  warnings.warn('Optimal bin calculation tried to make %.0f bins, returning %i'%(nbins, nbinMax))\n"
     ]
    },
    {
     "name": "stdout",
     "output_type": "stream",
     "text": [
      "monopole: 0.950437  dipole: lon: -22.728, lat: 61.6957, amp: 0.0490752\n",
      "Plotting complete.\n",
      "Healpix slicer using NSIDE=128, approximate resolution 27.483891 arcminutes\n",
      "Querying database SummaryAllProps with no constraint for columns ['exptime', 'dec', 'RA', 'airmass', 'mjd'].\n",
      "Found 295876 visits\n",
      "Running:  ['one_filter_north_pairs_db_BruteOSFMetric_UNIS', 'one_filter_north_pairs_db_Median_normairmass_UNIS']\n",
      "Completed metric generation.\n",
      "Running:  ['one_filter_north_pairs_db_PairFraction_HEAL']\n",
      "Completed metric generation.\n",
      "Running reduce methods.\n",
      "Running summary statistics.\n",
      "Completed.\n",
      "Plotting figures with \"\" constraint now.\n"
     ]
    },
    {
     "name": "stderr",
     "output_type": "stream",
     "text": [
      "/Users/yoachim/gitRepos/sims_maf/python/lsst/sims/maf/utils/mafUtils.py:60: UserWarning: Optimal bin calculation tried to make 436 bins, returning 200\n",
      "  warnings.warn('Optimal bin calculation tried to make %.0f bins, returning %i'%(nbins, nbinMax))\n",
      "/Users/yoachim/lsstp3/DarwinX86/miniconda3/4.2.12.lsst1/lib/python3.6/site-packages/matplotlib/pyplot.py:524: RuntimeWarning: More than 20 figures have been opened. Figures created through the pyplot interface (`matplotlib.pyplot.figure`) are retained until explicitly closed and may consume too much memory. (To control this warning, see the rcParam `figure.max_open_warning`).\n",
      "  max_open_warning, RuntimeWarning)\n"
     ]
    },
    {
     "name": "stdout",
     "output_type": "stream",
     "text": [
      "monopole: 0.95455  dipole: lon: -67.1527, lat: 63.8183, amp: 0.0436779\n",
      "Plotting complete.\n",
      "Healpix slicer using NSIDE=128, approximate resolution 27.483891 arcminutes\n",
      "Querying database SummaryAllProps with no constraint for columns ['exptime', 'dec', 'RA', 'airmass', 'mjd'].\n",
      "Found 3022980 visits\n",
      "Running:  ['one_filter_10yr_db_BruteOSFMetric_UNIS', 'one_filter_10yr_db_Median_normairmass_UNIS']\n",
      "Completed metric generation.\n",
      "Running:  ['one_filter_10yr_db_PairFraction_HEAL']\n",
      "Completed metric generation.\n",
      "Running reduce methods.\n",
      "Running summary statistics.\n",
      "Completed.\n",
      "Plotting figures with \"\" constraint now.\n"
     ]
    },
    {
     "name": "stderr",
     "output_type": "stream",
     "text": [
      "/Users/yoachim/lsstp3/DarwinX86/miniconda3/4.2.12.lsst1/lib/python3.6/site-packages/matplotlib/pyplot.py:524: RuntimeWarning: More than 20 figures have been opened. Figures created through the pyplot interface (`matplotlib.pyplot.figure`) are retained until explicitly closed and may consume too much memory. (To control this warning, see the rcParam `figure.max_open_warning`).\n",
      "  max_open_warning, RuntimeWarning)\n"
     ]
    },
    {
     "name": "stdout",
     "output_type": "stream",
     "text": [
      "monopole: 0.0918347  dipole: lon: -176.839, lat: -44.5634, amp: 0.117848\n",
      "Plotting complete.\n",
      "Healpix slicer using NSIDE=128, approximate resolution 27.483891 arcminutes\n",
      "Querying database SummaryAllProps with no constraint for columns ['exptime', 'dec', 'RA', 'airmass', 'mjd'].\n",
      "Found 288031 visits\n",
      "Running:  ['one_filter_dither_db_BruteOSFMetric_UNIS', 'one_filter_dither_db_Median_normairmass_UNIS']\n",
      "Completed metric generation.\n",
      "Running:  ['one_filter_dither_db_PairFraction_HEAL']\n",
      "Completed metric generation.\n",
      "Running reduce methods.\n",
      "Running summary statistics.\n",
      "Completed.\n",
      "Plotting figures with \"\" constraint now.\n"
     ]
    },
    {
     "name": "stderr",
     "output_type": "stream",
     "text": [
      "/Users/yoachim/lsstp3/DarwinX86/miniconda3/4.2.12.lsst1/lib/python3.6/site-packages/matplotlib/pyplot.py:524: RuntimeWarning: More than 20 figures have been opened. Figures created through the pyplot interface (`matplotlib.pyplot.figure`) are retained until explicitly closed and may consume too much memory. (To control this warning, see the rcParam `figure.max_open_warning`).\n",
      "  max_open_warning, RuntimeWarning)\n"
     ]
    },
    {
     "name": "stdout",
     "output_type": "stream",
     "text": [
      "monopole: 0.0935617  dipole: lon: 153.74, lat: -68.8173, amp: 0.145519\n",
      "Plotting complete.\n",
      "Healpix slicer using NSIDE=128, approximate resolution 27.483891 arcminutes\n",
      "Querying database SummaryAllProps with no constraint for columns ['exptime', 'dec', 'RA', 'airmass', 'mjd'].\n",
      "Found 288009 visits\n",
      "Running:  ['rolling_1_db_BruteOSFMetric_UNIS', 'rolling_1_db_Median_normairmass_UNIS']\n",
      "Completed metric generation.\n",
      "Running:  ['rolling_1_db_PairFraction_HEAL']\n",
      "Completed metric generation.\n",
      "Running reduce methods.\n",
      "Running summary statistics.\n",
      "Completed.\n",
      "Plotting figures with \"\" constraint now.\n"
     ]
    },
    {
     "name": "stderr",
     "output_type": "stream",
     "text": [
      "/Users/yoachim/lsstp3/DarwinX86/miniconda3/4.2.12.lsst1/lib/python3.6/site-packages/matplotlib/pyplot.py:524: RuntimeWarning: More than 20 figures have been opened. Figures created through the pyplot interface (`matplotlib.pyplot.figure`) are retained until explicitly closed and may consume too much memory. (To control this warning, see the rcParam `figure.max_open_warning`).\n",
      "  max_open_warning, RuntimeWarning)\n"
     ]
    },
    {
     "name": "stdout",
     "output_type": "stream",
     "text": [
      "monopole: 0.149464  dipole: lon: 160.23, lat: -64.2438, amp: 0.19843\n",
      "Plotting complete.\n",
      "Healpix slicer using NSIDE=128, approximate resolution 27.483891 arcminutes\n",
      "Querying database SummaryAllProps with no constraint for columns ['exptime', 'dec', 'RA', 'airmass', 'mjd'].\n",
      "Found 592734 visits\n",
      "Running:  ['rolling_2_db_BruteOSFMetric_UNIS', 'rolling_2_db_Median_normairmass_UNIS']\n",
      "Completed metric generation.\n",
      "Running:  ['rolling_2_db_PairFraction_HEAL']\n",
      "Completed metric generation.\n",
      "Running reduce methods.\n",
      "Running summary statistics.\n",
      "Completed.\n",
      "Plotting figures with \"\" constraint now.\n"
     ]
    },
    {
     "name": "stderr",
     "output_type": "stream",
     "text": [
      "/Users/yoachim/lsstp3/DarwinX86/miniconda3/4.2.12.lsst1/lib/python3.6/site-packages/matplotlib/pyplot.py:524: RuntimeWarning: More than 20 figures have been opened. Figures created through the pyplot interface (`matplotlib.pyplot.figure`) are retained until explicitly closed and may consume too much memory. (To control this warning, see the rcParam `figure.max_open_warning`).\n",
      "  max_open_warning, RuntimeWarning)\n"
     ]
    },
    {
     "name": "stdout",
     "output_type": "stream",
     "text": [
      "monopole: 0.140566  dipole: lon: 159.55, lat: -61.9142, amp: 0.199159\n",
      "Plotting complete.\n",
      "Healpix slicer using NSIDE=128, approximate resolution 27.483891 arcminutes\n",
      "Querying database SummaryAllProps with no constraint for columns ['exptime', 'dec', 'RA', 'airmass', 'mjd'].\n",
      "Found 2910465 visits\n",
      "Running:  ['full_nside32_fast_10_db_BruteOSFMetric_UNIS', 'full_nside32_fast_10_db_Median_normairmass_UNIS']\n",
      "Completed metric generation.\n",
      "Running:  ['full_nside32_fast_10_db_PairFraction_HEAL']\n"
     ]
    }
   ],
   "source": [
    "results = []\n",
    "i=0\n",
    "for conn, filename in zip(conns,files):\n",
    "    bundleList = []\n",
    "    sql = ''\n",
    "    slicer = slicers.UniSlicer()\n",
    "    metric = BruteOSFMetric(expTimeCol=colmap_dict['exptime'],\n",
    "                                   mjdCol=colmap_dict['mjd'])\n",
    "    bundle = metricBundles.MetricBundle(metric, slicer, sql)\n",
    "    bundleList.append(bundle)\n",
    "    \n",
    "    stacker = stackers.NormAirmassStacker(decCol='dec')\n",
    "    metric = metrics.MedianMetric(col='normairmass')\n",
    "    bundle = metricBundles.MetricBundle(metric, slicer, sql, stackerList=[stacker])\n",
    "    bundleList.append(bundle)\n",
    "    \n",
    "    slicer = slicers.HealpixSlicer(lonCol='RA', latCol='dec')\n",
    "    metric = metrics.PairFractionMetric(timeCol=colmap_dict['mjd'])\n",
    "    bundle = metricBundles.MetricBundle(metric, slicer, sql)\n",
    "    bundleList.append(bundle)\n",
    "    for bundle in bundleList:\n",
    "        bundle.setRunName(filename.split('/')[0])\n",
    "    \n",
    "    bd = metricBundles.makeBundlesDictFromList(bundleList)\n",
    "    group = metricBundles.MetricBundleGroup(bd, conn, outDir='mafOut')\n",
    "    group.runAll()\n",
    "    group.plotAll(closefigs=False)\n",
    "    results.append(bundleList)"
   ]
  },
  {
   "cell_type": "code",
   "execution_count": null,
   "metadata": {
    "collapsed": true
   },
   "outputs": [],
   "source": []
  },
  {
   "cell_type": "code",
   "execution_count": null,
   "metadata": {
    "collapsed": true
   },
   "outputs": [],
   "source": [
    "nairs = []\n",
    "osfs = []\n",
    "for result in results:\n",
    "    nairs.append(result[1].metricValues)\n",
    "    osfs.append(result[0].metricValues)"
   ]
  },
  {
   "cell_type": "code",
   "execution_count": null,
   "metadata": {
    "collapsed": true
   },
   "outputs": [],
   "source": []
  },
  {
   "cell_type": "code",
   "execution_count": null,
   "metadata": {},
   "outputs": [],
   "source": [
    "max_osf = 30./(32.+4.5)\n",
    "plt.plot(1, max_osf, 'r*', label='meridian, 30s/36.5s')\n",
    "plt.xlabel('Median Normalized Airmass')\n",
    "plt.ylabel('Open Shutter Fraction')\n",
    "plt.axhline(y=max_osf, linestyle='--', color='k')\n",
    "plt.axvline(x=1., linestyle='--', color='k')\n",
    "plt.xlim([1.04, .999])\n",
    "plt.ylim([.68, .84])\n",
    "\n",
    "for i in range(8):\n",
    "    plt.plot(nairs[i], osfs[i], 'o', label=labels[i])\n",
    "#plt.plot(nairs[0:2], osfs[0:2], 'ko', label='regular')\n",
    "#plt.plot(nairs[2:4], osfs[2:4], 'go', label='pairs')\n",
    "\n",
    "for i in range(8,12):\n",
    "    plt.plot(nairs[i], osfs[i], '^', label=labels[i])\n",
    "\n",
    "#reference opsim line\n",
    "plt.plot([1.125,1.01], [0.755, 0.7], 'k--', alpha=0.4)\n",
    "plt.legend(loc='upper left')\n",
    "plt.savefig('Plots/compare_osf.pdf')"
   ]
  },
  {
   "cell_type": "code",
   "execution_count": null,
   "metadata": {
    "collapsed": true
   },
   "outputs": [],
   "source": []
  },
  {
   "cell_type": "code",
   "execution_count": null,
   "metadata": {
    "collapsed": true
   },
   "outputs": [],
   "source": []
  }
 ],
 "metadata": {
  "kernelspec": {
   "display_name": "Python 3",
   "language": "python",
   "name": "python3"
  },
  "language_info": {
   "codemirror_mode": {
    "name": "ipython",
    "version": 3
   },
   "file_extension": ".py",
   "mimetype": "text/x-python",
   "name": "python",
   "nbconvert_exporter": "python",
   "pygments_lexer": "ipython3",
   "version": "3.6.2"
  }
 },
 "nbformat": 4,
 "nbformat_minor": 2
}
