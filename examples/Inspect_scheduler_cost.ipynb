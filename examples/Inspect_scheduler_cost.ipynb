{
 "cells": [
  {
   "cell_type": "code",
   "execution_count": 1,
   "metadata": {
    "collapsed": false,
    "deletable": true,
    "editable": true
   },
   "outputs": [],
   "source": [
    "import numpy as np\n",
    "import lsst.sims.featureScheduler as fs\n",
    "from lsst.sims.featureScheduler.observatory import Speed_observatory\n",
    "import healpy as hp\n",
    "%matplotlib inline"
   ]
  },
  {
   "cell_type": "code",
   "execution_count": 2,
   "metadata": {
    "collapsed": false,
    "deletable": true,
    "editable": true
   },
   "outputs": [
    {
     "name": "stderr",
     "output_type": "stream",
     "text": [
      "/Users/elahesadatnaghib/Dropbox/Graduate/Research/Princeton/LSSTscheduler/LSST-Code/PythonCode/sims_featureScheduler/python/lsst/sims/featureScheduler/features.py:377: RuntimeWarning: invalid value encountered in arccos\n",
      "  self.ha_limit = np.arccos(cosha)*12/np.pi\n",
      "/Users/elahesadatnaghib/Dropbox/Graduate/Research/Princeton/LSSTscheduler/LSST-Code/PythonCode/sims_featureScheduler/python/lsst/sims/featureScheduler/features.py:421: RuntimeWarning: invalid value encountered in greater\n",
      "  self.feature[np.where(self.feature > time_to_twilight)] = time_to_twilight\n",
      "/Users/elahesadatnaghib/Dropbox/Graduate/Research/Princeton/LSSTscheduler/LSST-Code/PythonCode/sims_featureScheduler/python/lsst/sims/featureScheduler/features.py:424: RuntimeWarning: invalid value encountered in less\n",
      "  good = np.where(current_ha < -self.ha_limit)\n",
      "/Users/elahesadatnaghib/Dropbox/Graduate/Research/Princeton/LSSTscheduler/LSST-Code/PythonCode/sims_featureScheduler/python/lsst/sims/featureScheduler/features.py:432: RuntimeWarning: invalid value encountered in less\n",
      "  self.feature[np.where(self.feature < 0)] = 0.\n",
      "/Users/elahesadatnaghib/Dropbox/Graduate/Research/Princeton/LSSTscheduler/LSST-Code/PythonCode/sims_featureScheduler/python/lsst/sims/featureScheduler/basis_functions.py:422: RuntimeWarning: invalid value encountered in greater_equal\n",
      "  cat1 = np.where(WFD_cat & (self.since_t_last_all_filters <= smooth_gap_min) & (self.t_to_invis >= smooth_gap_max))\n",
      "/Users/elahesadatnaghib/Dropbox/Graduate/Research/Princeton/LSSTscheduler/LSST-Code/PythonCode/sims_featureScheduler/python/lsst/sims/featureScheduler/basis_functions.py:423: RuntimeWarning: invalid value encountered in less_equal\n",
      "  cat2 = np.where(WFD_cat & (self.since_t_last_all_filters <= smooth_gap_min) & (self.t_to_invis <= smooth_gap_max))\n",
      "/Users/elahesadatnaghib/Dropbox/Graduate/Research/Princeton/LSSTscheduler/LSST-Code/PythonCode/sims_featureScheduler/python/lsst/sims/featureScheduler/basis_functions.py:437: RuntimeWarning: invalid value encountered in less_equal\n",
      "  bad2 = np.where(WFD_cat & (self.t_to_invis <= min_t_observable))\n",
      "/Users/elahesadatnaghib/Dropbox/Graduate/Research/Princeton/LSSTscheduler/LSST-Code/PythonCode/sims_featureScheduler/python/lsst/sims/featureScheduler/basis_functions.py:444: RuntimeWarning: invalid value encountered in greater_equal\n",
      "  cat1 = np.where(NES_cat & (self.since_t_last_all_filters <= smooth_gap_min) & (self.t_to_invis >= smooth_gap_max))\n",
      "/Users/elahesadatnaghib/Dropbox/Graduate/Research/Princeton/LSSTscheduler/LSST-Code/PythonCode/sims_featureScheduler/python/lsst/sims/featureScheduler/basis_functions.py:445: RuntimeWarning: invalid value encountered in less_equal\n",
      "  cat2 = np.where(NES_cat & (self.since_t_last_all_filters <= smooth_gap_min) & (self.t_to_invis <= smooth_gap_max))\n",
      "/Users/elahesadatnaghib/Dropbox/Graduate/Research/Princeton/LSSTscheduler/LSST-Code/PythonCode/sims_featureScheduler/python/lsst/sims/featureScheduler/basis_functions.py:459: RuntimeWarning: invalid value encountered in less_equal\n",
      "  bad2 = np.where(NES_cat & (self.t_to_invis <= min_t_observable))\n"
     ]
    },
    {
     "name": "stdout",
     "output_type": "stream",
     "text": [
      "progress = 33.0%"
     ]
    },
    {
     "name": "stderr",
     "output_type": "stream",
     "text": [
      "/Users/elahesadatnaghib/Dropbox/Graduate/Research/Princeton/LSSTscheduler/LSST-Code/PythonCode/sims_featureScheduler/python/lsst/sims/featureScheduler/basis_functions.py:520: RuntimeWarning: divide by zero encountered in divide\n",
      "  self.result = utils.alt_allocation(self.alt,self.dec, self.lat, self.filtername) + 2*((1./(1-np.cos(self.alt))) -1)\n"
     ]
    },
    {
     "name": "stdout",
     "output_type": "stream",
     "text": [
      "progress = 83.0%"
     ]
    },
    {
     "ename": "ValueError",
     "evalue": "zero-size array to reduction operation minimum which has no identity",
     "output_type": "error",
     "traceback": [
      "\u001b[0;31m---------------------------------------------------------------------------\u001b[0m",
      "\u001b[0;31mValueError\u001b[0m                                Traceback (most recent call last)",
      "\u001b[0;32m<ipython-input-2-bbafbc4c4410>\u001b[0m in \u001b[0;36m<module>\u001b[0;34m()\u001b[0m\n\u001b[1;32m     19\u001b[0m observatory, scheduler, observations = fs.sim_runner(observatory, scheduler,\n\u001b[1;32m     20\u001b[0m                                                      \u001b[0msurvey_length\u001b[0m\u001b[0;34m=\u001b[0m\u001b[0msurvey_length\u001b[0m\u001b[0;34m,\u001b[0m\u001b[0;34m\u001b[0m\u001b[0m\n\u001b[0;32m---> 21\u001b[0;31m                                                      filename='pairs_survey.db', delete_past=True)\n\u001b[0m",
      "\u001b[0;32m/Users/elahesadatnaghib/Dropbox/Graduate/Research/Princeton/LSSTscheduler/LSST-Code/PythonCode/sims_featureScheduler/python/lsst/sims/featureScheduler/utils.py\u001b[0m in \u001b[0;36msim_runner\u001b[0;34m(observatory, scheduler, mjd_start, survey_length, filename, delete_past)\u001b[0m\n\u001b[1;32m    369\u001b[0m         \u001b[0;32melse\u001b[0m\u001b[0;34m:\u001b[0m\u001b[0;34m\u001b[0m\u001b[0m\n\u001b[1;32m    370\u001b[0m             \u001b[0mscheduler\u001b[0m\u001b[0;34m.\u001b[0m\u001b[0mflush_queue\u001b[0m\u001b[0;34m(\u001b[0m\u001b[0;34m)\u001b[0m\u001b[0;34m\u001b[0m\u001b[0m\n\u001b[0;32m--> 371\u001b[0;31m         \u001b[0mscheduler\u001b[0m\u001b[0;34m.\u001b[0m\u001b[0mupdate_conditions\u001b[0m\u001b[0;34m(\u001b[0m\u001b[0mobservatory\u001b[0m\u001b[0;34m.\u001b[0m\u001b[0mreturn_status\u001b[0m\u001b[0;34m(\u001b[0m\u001b[0;34m)\u001b[0m\u001b[0;34m)\u001b[0m\u001b[0;34m\u001b[0m\u001b[0m\n\u001b[0m\u001b[1;32m    372\u001b[0m         \u001b[0mmjd\u001b[0m \u001b[0;34m=\u001b[0m \u001b[0mobservatory\u001b[0m\u001b[0;34m.\u001b[0m\u001b[0mmjd\u001b[0m\u001b[0;34m\u001b[0m\u001b[0m\n\u001b[1;32m    373\u001b[0m         \u001b[0;32mif\u001b[0m \u001b[0;34m(\u001b[0m\u001b[0mmjd\u001b[0m\u001b[0;34m-\u001b[0m\u001b[0mmjd_track\u001b[0m\u001b[0;34m)\u001b[0m \u001b[0;34m>\u001b[0m \u001b[0mstep\u001b[0m\u001b[0;34m:\u001b[0m\u001b[0;34m\u001b[0m\u001b[0m\n",
      "\u001b[0;32m/Users/elahesadatnaghib/Dropbox/Graduate/Research/Princeton/LSSTscheduler/LSST-Code/PythonCode/sims_featureScheduler/python/lsst/sims/featureScheduler/observatory/speed_observatory.pyc\u001b[0m in \u001b[0;36mreturn_status\u001b[0;34m(self)\u001b[0m\n\u001b[1;32m    123\u001b[0m         \u001b[0mresult\u001b[0m\u001b[0;34m[\u001b[0m\u001b[0;34m'night'\u001b[0m\u001b[0;34m]\u001b[0m \u001b[0;34m=\u001b[0m \u001b[0mself\u001b[0m\u001b[0;34m.\u001b[0m\u001b[0mnight\u001b[0m\u001b[0;34m\u001b[0m\u001b[0m\n\u001b[1;32m    124\u001b[0m         \u001b[0mresult\u001b[0m\u001b[0;34m[\u001b[0m\u001b[0;34m'lmst'\u001b[0m\u001b[0;34m]\u001b[0m\u001b[0;34m,\u001b[0m \u001b[0mlast\u001b[0m \u001b[0;34m=\u001b[0m \u001b[0mcalcLmstLast\u001b[0m\u001b[0;34m(\u001b[0m\u001b[0mself\u001b[0m\u001b[0;34m.\u001b[0m\u001b[0mmjd\u001b[0m\u001b[0;34m,\u001b[0m \u001b[0mself\u001b[0m\u001b[0;34m.\u001b[0m\u001b[0msite\u001b[0m\u001b[0;34m.\u001b[0m\u001b[0mlongitude_rad\u001b[0m\u001b[0;34m)\u001b[0m\u001b[0;34m\u001b[0m\u001b[0m\n\u001b[0;32m--> 125\u001b[0;31m         \u001b[0mresult\u001b[0m\u001b[0;34m[\u001b[0m\u001b[0;34m'skybrightness'\u001b[0m\u001b[0;34m]\u001b[0m \u001b[0;34m=\u001b[0m \u001b[0mself\u001b[0m\u001b[0;34m.\u001b[0m\u001b[0msky\u001b[0m\u001b[0;34m.\u001b[0m\u001b[0mreturnMags\u001b[0m\u001b[0;34m(\u001b[0m\u001b[0mself\u001b[0m\u001b[0;34m.\u001b[0m\u001b[0mmjd\u001b[0m\u001b[0;34m)\u001b[0m\u001b[0;34m\u001b[0m\u001b[0m\n\u001b[0m\u001b[1;32m    126\u001b[0m         \u001b[0mresult\u001b[0m\u001b[0;34m[\u001b[0m\u001b[0;34m'slewtimes'\u001b[0m\u001b[0;34m]\u001b[0m \u001b[0;34m=\u001b[0m \u001b[0mself\u001b[0m\u001b[0;34m.\u001b[0m\u001b[0mslewtime_map\u001b[0m\u001b[0;34m(\u001b[0m\u001b[0;34m)\u001b[0m\u001b[0;34m\u001b[0m\u001b[0m\n\u001b[1;32m    127\u001b[0m         \u001b[0mresult\u001b[0m\u001b[0;34m[\u001b[0m\u001b[0;34m'airmass'\u001b[0m\u001b[0;34m]\u001b[0m \u001b[0;34m=\u001b[0m \u001b[0mself\u001b[0m\u001b[0;34m.\u001b[0m\u001b[0msky\u001b[0m\u001b[0;34m.\u001b[0m\u001b[0mreturnAirmass\u001b[0m\u001b[0;34m(\u001b[0m\u001b[0mself\u001b[0m\u001b[0;34m.\u001b[0m\u001b[0mmjd\u001b[0m\u001b[0;34m)\u001b[0m\u001b[0;34m\u001b[0m\u001b[0m\n",
      "\u001b[0;32m/Users/elahesadatnaghib/Dropbox/Graduate/Research/Princeton/LSSTscheduler/LSST-Code/PythonCode/sims_skybrightness_pre/python/lsst/sims/skybrightness_pre/SkyModelPre.pyc\u001b[0m in \u001b[0;36mreturnMags\u001b[0;34m(self, mjd, indx, airmass_mask, planet_mask, moon_mask, zenith_mask, badval, filters, extrapolate)\u001b[0m\n\u001b[1;32m    237\u001b[0m         \"\"\"\n\u001b[1;32m    238\u001b[0m         \u001b[0;32mif\u001b[0m \u001b[0;34m(\u001b[0m\u001b[0mmjd\u001b[0m \u001b[0;34m<\u001b[0m \u001b[0mself\u001b[0m\u001b[0;34m.\u001b[0m\u001b[0mloaded_range\u001b[0m\u001b[0;34m.\u001b[0m\u001b[0mmin\u001b[0m\u001b[0;34m(\u001b[0m\u001b[0;34m)\u001b[0m \u001b[0;32mor\u001b[0m \u001b[0;34m(\u001b[0m\u001b[0mmjd\u001b[0m \u001b[0;34m>\u001b[0m \u001b[0mself\u001b[0m\u001b[0;34m.\u001b[0m\u001b[0mloaded_range\u001b[0m\u001b[0;34m.\u001b[0m\u001b[0mmax\u001b[0m\u001b[0;34m(\u001b[0m\u001b[0;34m)\u001b[0m\u001b[0;34m)\u001b[0m\u001b[0;34m)\u001b[0m\u001b[0;34m:\u001b[0m\u001b[0;34m\u001b[0m\u001b[0m\n\u001b[0;32m--> 239\u001b[0;31m             \u001b[0mself\u001b[0m\u001b[0;34m.\u001b[0m\u001b[0m_load_data\u001b[0m\u001b[0;34m(\u001b[0m\u001b[0mmjd\u001b[0m\u001b[0;34m)\u001b[0m\u001b[0;34m\u001b[0m\u001b[0m\n\u001b[0m\u001b[1;32m    240\u001b[0m \u001b[0;34m\u001b[0m\u001b[0m\n\u001b[1;32m    241\u001b[0m         mask_rules = {'airmass': airmass_mask, 'planet': planet_mask,\n",
      "\u001b[0;32m/Users/elahesadatnaghib/Dropbox/Graduate/Research/Princeton/LSSTscheduler/LSST-Code/PythonCode/sims_skybrightness_pre/python/lsst/sims/skybrightness_pre/SkyModelPre.pyc\u001b[0m in \u001b[0;36m_load_data\u001b[0;34m(self, mjd, filename)\u001b[0m\n\u001b[1;32m     73\u001b[0m             \u001b[0;32mif\u001b[0m \u001b[0mnp\u001b[0m\u001b[0;34m.\u001b[0m\u001b[0msize\u001b[0m\u001b[0;34m(\u001b[0m\u001b[0mfile_indx\u001b[0m\u001b[0;34m)\u001b[0m \u001b[0;34m==\u001b[0m \u001b[0;36m0\u001b[0m\u001b[0;34m:\u001b[0m\u001b[0;34m\u001b[0m\u001b[0m\n\u001b[1;32m     74\u001b[0m                 raise ValueError('MJD = %f is out of range for the files found (%f-%f)' % (mjd,\n\u001b[0;32m---> 75\u001b[0;31m                                                                                            \u001b[0mself\u001b[0m\u001b[0;34m.\u001b[0m\u001b[0mmjd_left\u001b[0m\u001b[0;34m.\u001b[0m\u001b[0mmin\u001b[0m\u001b[0;34m(\u001b[0m\u001b[0;34m)\u001b[0m\u001b[0;34m,\u001b[0m\u001b[0;34m\u001b[0m\u001b[0m\n\u001b[0m\u001b[1;32m     76\u001b[0m                                                                                            self.mjd_right.max()))\n\u001b[1;32m     77\u001b[0m             \u001b[0mfilename\u001b[0m \u001b[0;34m=\u001b[0m \u001b[0mself\u001b[0m\u001b[0;34m.\u001b[0m\u001b[0mfiles\u001b[0m\u001b[0;34m[\u001b[0m\u001b[0mfile_indx\u001b[0m\u001b[0;34m.\u001b[0m\u001b[0mmin\u001b[0m\u001b[0;34m(\u001b[0m\u001b[0;34m)\u001b[0m\u001b[0;34m]\u001b[0m\u001b[0;34m\u001b[0m\u001b[0m\n",
      "\u001b[0;32m/Library/Frameworks/Python.framework/Versions/2.7/lib/python2.7/site-packages/numpy/core/_methods.pyc\u001b[0m in \u001b[0;36m_amin\u001b[0;34m(a, axis, out, keepdims)\u001b[0m\n\u001b[1;32m     27\u001b[0m \u001b[0;34m\u001b[0m\u001b[0m\n\u001b[1;32m     28\u001b[0m \u001b[0;32mdef\u001b[0m \u001b[0m_amin\u001b[0m\u001b[0;34m(\u001b[0m\u001b[0ma\u001b[0m\u001b[0;34m,\u001b[0m \u001b[0maxis\u001b[0m\u001b[0;34m=\u001b[0m\u001b[0mNone\u001b[0m\u001b[0;34m,\u001b[0m \u001b[0mout\u001b[0m\u001b[0;34m=\u001b[0m\u001b[0mNone\u001b[0m\u001b[0;34m,\u001b[0m \u001b[0mkeepdims\u001b[0m\u001b[0;34m=\u001b[0m\u001b[0mFalse\u001b[0m\u001b[0;34m)\u001b[0m\u001b[0;34m:\u001b[0m\u001b[0;34m\u001b[0m\u001b[0m\n\u001b[0;32m---> 29\u001b[0;31m     \u001b[0;32mreturn\u001b[0m \u001b[0mumr_minimum\u001b[0m\u001b[0;34m(\u001b[0m\u001b[0ma\u001b[0m\u001b[0;34m,\u001b[0m \u001b[0maxis\u001b[0m\u001b[0;34m,\u001b[0m \u001b[0mNone\u001b[0m\u001b[0;34m,\u001b[0m \u001b[0mout\u001b[0m\u001b[0;34m,\u001b[0m \u001b[0mkeepdims\u001b[0m\u001b[0;34m)\u001b[0m\u001b[0;34m\u001b[0m\u001b[0m\n\u001b[0m\u001b[1;32m     30\u001b[0m \u001b[0;34m\u001b[0m\u001b[0m\n\u001b[1;32m     31\u001b[0m \u001b[0;32mdef\u001b[0m \u001b[0m_sum\u001b[0m\u001b[0;34m(\u001b[0m\u001b[0ma\u001b[0m\u001b[0;34m,\u001b[0m \u001b[0maxis\u001b[0m\u001b[0;34m=\u001b[0m\u001b[0mNone\u001b[0m\u001b[0;34m,\u001b[0m \u001b[0mdtype\u001b[0m\u001b[0;34m=\u001b[0m\u001b[0mNone\u001b[0m\u001b[0;34m,\u001b[0m \u001b[0mout\u001b[0m\u001b[0;34m=\u001b[0m\u001b[0mNone\u001b[0m\u001b[0;34m,\u001b[0m \u001b[0mkeepdims\u001b[0m\u001b[0;34m=\u001b[0m\u001b[0mFalse\u001b[0m\u001b[0;34m)\u001b[0m\u001b[0;34m:\u001b[0m\u001b[0;34m\u001b[0m\u001b[0m\n",
      "\u001b[0;31mValueError\u001b[0m: zero-size array to reduction operation minimum which has no identity"
     ]
    }
   ],
   "source": [
    "survey_length = 10  # days\n",
    "# Define what we want the final visit ratio map to look like\n",
    "survey_filters = ['u','g']\n",
    "surveys = []\n",
    "\n",
    "for f in survey_filters:\n",
    "    bfs = []\n",
    "    bfs.append(fs.Slewtime_basis_function_cost(filtername=f))\n",
    "    bfs.append(fs.Visit_repeat_basis_function_cost(filtername=f,survey_filters=survey_filters))\n",
    "    bfs.append(fs.Target_map_basis_function_cost(filtername=f, survey_filters=survey_filters))\n",
    "    bfs.append(fs.Normalized_alt_basis_function_cost(filtername=f))\n",
    "    bfs.append(fs.Hour_angle_basis_function_cost())\n",
    "    bfs.append(fs.Depth_percentile_basis_function_cost())\n",
    "    weights = np.array([3,1,1,1,1,1])\n",
    "    surveys.append(fs.Simple_greedy_survey_fields_cost(bfs, weights, filtername=f, block_size= 10))\n",
    "\n",
    "scheduler = fs.Core_scheduler_cost(surveys)\n",
    "observatory = Speed_observatory()\n",
    "observatory, scheduler, observations = fs.sim_runner(observatory, scheduler,\n",
    "                                                     survey_length=survey_length,\n",
    "                                                     filename='pairs_survey.db', delete_past=True)"
   ]
  },
  {
   "cell_type": "code",
   "execution_count": null,
   "metadata": {
    "collapsed": false,
    "deletable": true,
    "editable": true
   },
   "outputs": [],
   "source": [
    "\n",
    "for fn, survey in zip(['u', 'g'], scheduler.surveys):\n",
    "    for basis_function in survey.basis_functions:\n",
    "        reward = basis_function()\n",
    "        if np.size(reward) > 1:\n",
    "            hp.mollview(reward, min=-1, title='$%s$, %s' % (fn, type(basis_function).__name__.split('.')[-1]))"
   ]
  }
 ],
 "metadata": {
  "anaconda-cloud": {},
  "kernelspec": {
   "display_name": "Python 2",
   "language": "python",
   "name": "python2"
  },
  "language_info": {
   "codemirror_mode": {
    "name": "ipython",
    "version": 2
   },
   "file_extension": ".py",
   "mimetype": "text/x-python",
   "name": "python",
   "nbconvert_exporter": "python",
   "pygments_lexer": "ipython2",
   "version": "2.7.10"
  }
 },
 "nbformat": 4,
 "nbformat_minor": 2
}
