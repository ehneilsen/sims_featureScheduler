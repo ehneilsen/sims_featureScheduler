{
 "cells": [
  {
   "cell_type": "code",
   "execution_count": null,
   "metadata": {
    "collapsed": true,
    "deletable": true,
    "editable": true
   },
   "outputs": [],
   "source": [
    "import numpy as np\n",
    "import lsst.sims.featureScheduler as fs\n",
    "from lsst.sims.featureScheduler.observatory import Speed_observatory\n",
    "import healpy as hp\n",
    "%matplotlib inline"
   ]
  },
  {
   "cell_type": "code",
   "execution_count": null,
   "metadata": {
    "collapsed": false,
    "deletable": true,
    "editable": true
   },
   "outputs": [
    {
     "name": "stderr",
     "output_type": "stream",
     "text": [
      "/Users/elahesadatnaghib/Dropbox/Graduate/Research/Princeton/LSSTscheduler/LSST-Code/PythonCode/sims_featureScheduler/python/lsst/sims/featureScheduler/features.py:405: RuntimeWarning: invalid value encountered in arccos\n",
      "  self.ha_limit = np.arccos(cosha)*12/np.pi\n",
      "/Users/elahesadatnaghib/Dropbox/Graduate/Research/Princeton/LSSTscheduler/LSST-Code/PythonCode/sims_featureScheduler/python/lsst/sims/featureScheduler/features.py:359: RuntimeWarning: invalid value encountered in arccos\n",
      "  self.lmst_max = np.arccos(cos_ha) + self.ra\n",
      "/Users/elahesadatnaghib/Dropbox/Graduate/Research/Princeton/LSSTscheduler/LSST-Code/PythonCode/sims_featureScheduler/python/lsst/sims/featureScheduler/features.py:449: RuntimeWarning: invalid value encountered in greater\n",
      "  self.feature[np.where(self.feature > time_to_twilight)] = time_to_twilight\n",
      "/Users/elahesadatnaghib/Dropbox/Graduate/Research/Princeton/LSSTscheduler/LSST-Code/PythonCode/sims_featureScheduler/python/lsst/sims/featureScheduler/features.py:452: RuntimeWarning: invalid value encountered in less\n",
      "  good = np.where(current_ha < -self.ha_limit)\n",
      "/Users/elahesadatnaghib/Dropbox/Graduate/Research/Princeton/LSSTscheduler/LSST-Code/PythonCode/sims_featureScheduler/python/lsst/sims/featureScheduler/features.py:460: RuntimeWarning: invalid value encountered in less\n",
      "  self.feature[np.where(self.feature < 0)] = 0.\n",
      "/Users/elahesadatnaghib/Dropbox/Graduate/Research/Princeton/LSSTscheduler/LSST-Code/PythonCode/sims_featureScheduler/python/lsst/sims/featureScheduler/features.py:368: RuntimeWarning: invalid value encountered in less\n",
      "  rad_to_limit[np.where(rad_to_limit < 0)] += 2.*np.pi\n",
      "/Users/elahesadatnaghib/Dropbox/Graduate/Research/Princeton/LSSTscheduler/LSST-Code/PythonCode/sims_featureScheduler/python/lsst/sims/featureScheduler/basis_functions.py:427: RuntimeWarning: invalid value encountered in greater_equal\n",
      "  cat1 = np.where(WFD_cat & (self.since_t_last_all_filters <= smooth_gap_min) & (self.t_to_invis >= smooth_gap_max))\n",
      "/Users/elahesadatnaghib/Dropbox/Graduate/Research/Princeton/LSSTscheduler/LSST-Code/PythonCode/sims_featureScheduler/python/lsst/sims/featureScheduler/basis_functions.py:428: RuntimeWarning: invalid value encountered in less_equal\n",
      "  cat2 = np.where(WFD_cat & (self.since_t_last_all_filters <= smooth_gap_min) & (self.t_to_invis <= smooth_gap_max))\n",
      "/Users/elahesadatnaghib/Dropbox/Graduate/Research/Princeton/LSSTscheduler/LSST-Code/PythonCode/sims_featureScheduler/python/lsst/sims/featureScheduler/basis_functions.py:442: RuntimeWarning: invalid value encountered in less_equal\n",
      "  bad2 = np.where(WFD_cat & (self.t_to_invis <= min_t_observable))\n",
      "/Users/elahesadatnaghib/Dropbox/Graduate/Research/Princeton/LSSTscheduler/LSST-Code/PythonCode/sims_featureScheduler/python/lsst/sims/featureScheduler/basis_functions.py:449: RuntimeWarning: invalid value encountered in greater_equal\n",
      "  cat1 = np.where(NES_cat & (self.since_t_last_all_filters <= smooth_gap_min) & (self.t_to_invis >= smooth_gap_max))\n",
      "/Users/elahesadatnaghib/Dropbox/Graduate/Research/Princeton/LSSTscheduler/LSST-Code/PythonCode/sims_featureScheduler/python/lsst/sims/featureScheduler/basis_functions.py:450: RuntimeWarning: invalid value encountered in less_equal\n",
      "  cat2 = np.where(NES_cat & (self.since_t_last_all_filters <= smooth_gap_min) & (self.t_to_invis <= smooth_gap_max))\n",
      "/Users/elahesadatnaghib/Dropbox/Graduate/Research/Princeton/LSSTscheduler/LSST-Code/PythonCode/sims_featureScheduler/python/lsst/sims/featureScheduler/basis_functions.py:464: RuntimeWarning: invalid value encountered in less_equal\n",
      "  bad2 = np.where(NES_cat & (self.t_to_invis <= min_t_observable))\n",
      "/Users/elahesadatnaghib/Dropbox/Graduate/Research/Princeton/LSSTscheduler/LSST-Code/PythonCode/sims_utils/python/lsst/sims/utils/m5_flat_sed.py:64: RuntimeWarning: overflow encountered in power\n",
      "  Tscale = expTime / 30.0 * np.power(10.0, -0.4*(musky - m5_flat_sed.msky[visitFilter]))\n"
     ]
    },
    {
     "name": "stdout",
     "output_type": "stream",
     "text": [
      "progress = 15.2%"
     ]
    }
   ],
   "source": [
    "survey_length = 8  # days\n",
    "# Define what we want the final visit ratio map to look like\n",
    "survey_filters = ['u','g','r','i','z','y']\n",
    "surveys = []\n",
    "\n",
    "for f in survey_filters:\n",
    "    bfs = []\n",
    "    bfs.append(fs.Slewtime_basis_function_cost(filtername=f))\n",
    "    bfs.append(fs.Visit_repeat_basis_function_cost(filtername=f,survey_filters=survey_filters))\n",
    "    bfs.append(fs.Target_map_basis_function_cost(filtername=f, survey_filters=survey_filters))\n",
    "    bfs.append(fs.Normalized_alt_basis_function_cost(filtername=f))\n",
    "    bfs.append(fs.Hour_angle_basis_function_cost())\n",
    "    bfs.append(fs.Depth_percentile_basis_function_cost())\n",
    "    weights = np.array([ 5.,          0.07568279,  8.28700042,  0.66221907,  6.82748119,  5.23734688])\n",
    "    surveys.append(fs.Simple_greedy_survey_fields_cost(bfs, weights, filtername=f, block_size= 10))\n",
    "\n",
    "scheduler = fs.Core_scheduler_cost(surveys)\n",
    "observatory = Speed_observatory()\n",
    "observatory, scheduler, observations = fs.sim_runner(observatory, scheduler,\n",
    "                                                     survey_length=survey_length,\n",
    "                                                     filename='Elahe.db', delete_past=True)"
   ]
  },
  {
   "cell_type": "code",
   "execution_count": null,
   "metadata": {
    "collapsed": false,
    "deletable": true,
    "editable": true
   },
   "outputs": [],
   "source": [
    "for fn, survey in zip(['u', 'g'], scheduler.surveys):\n",
    "    for basis_function in survey.basis_functions:\n",
    "        reward = basis_function()\n",
    "        if np.size(reward) > 1:\n",
    "            hp.mollview(reward, min=-1, title='$%s$, %s' % (fn, type(basis_function).__name__.split('.')[-1]))"
   ]
  },
  {
   "cell_type": "code",
   "execution_count": null,
   "metadata": {
    "collapsed": false,
    "deletable": true,
    "editable": true
   },
   "outputs": [],
   "source": [
    "t_decimals = np.modf(observations['mjd'])[0]\n",
    "t_dec_shifted = np.roll(t_decimals, -1)\n",
    "deltas = t_dec_shifted - t_decimals\n",
    "interval = np.sum(deltas[deltas>0]) *24.*60.*60.\n",
    "# avg of slew times\n",
    "avg_slew = np.sum(observations['slewtime'])/interval\n",
    "# avg number of observations\n",
    "N_obs = len(observations['RA'])/(interval/60.)\n",
    "\n",
    "print(interval,avg_slew, N_obs)"
   ]
  }
 ],
 "metadata": {
  "anaconda-cloud": {},
  "kernelspec": {
   "display_name": "Python 2",
   "language": "python",
   "name": "python2"
  },
  "language_info": {
   "codemirror_mode": {
    "name": "ipython",
    "version": 2
   },
   "file_extension": ".py",
   "mimetype": "text/x-python",
   "name": "python",
   "nbconvert_exporter": "python",
   "pygments_lexer": "ipython2",
   "version": "2.7.10"
  }
 },
 "nbformat": 4,
 "nbformat_minor": 2
}
