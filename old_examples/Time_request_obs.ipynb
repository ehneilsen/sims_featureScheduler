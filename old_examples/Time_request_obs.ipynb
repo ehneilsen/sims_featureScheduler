{
 "cells": [
  {
   "cell_type": "code",
   "execution_count": 1,
   "metadata": {
    "collapsed": true
   },
   "outputs": [],
   "source": [
    "import numpy as np\n",
    "import lsst.sims.featureScheduler as fs\n",
    "from lsst.sims.speedObservatory import Speed_observatory\n",
    "import matplotlib.pylab as plt\n",
    "import healpy as hp\n",
    "import timeit"
   ]
  },
  {
   "cell_type": "code",
   "execution_count": 2,
   "metadata": {},
   "outputs": [
    {
     "name": "stderr",
     "output_type": "stream",
     "text": [
      "/Users/yoachim/gitRepos/sims_ocs/python/lsst/sims/ocs/environment/seeing_model.py:61: RuntimeWarning: invalid value encountered in power\n",
      "  airmass_correction = numpy.power(airmass, self.AIRMASS_CORRECTION_POWER)\n"
     ]
    },
    {
     "name": "stdout",
     "output_type": "stream",
     "text": [
      "progress = 99.0%Completed 1822 observations\n"
     ]
    }
   ],
   "source": [
    "# set up a baseline like survey\n",
    "\n",
    "nside = fs.set_default_nside(nside=32)\n",
    "\n",
    "survey_length = 2.2 #365.25*10  # days\n",
    "\n",
    "# Define what we want the final visit ratio map to look like\n",
    "years = np.round(survey_length/365.25)\n",
    "target_map = fs.standard_goals(nside=nside)\n",
    "filters = ['u', 'g', 'r', 'i', 'z', 'y']\n",
    "surveys = []\n",
    "\n",
    "for filtername in filters:\n",
    "    bfs = []\n",
    "    bfs.append(fs.M5_diff_basis_function(filtername=filtername, nside=nside))\n",
    "    bfs.append(fs.Target_map_basis_function(filtername=filtername,\n",
    "                                            target_map=target_map[filtername],\n",
    "                                            out_of_bounds_val=hp.UNSEEN, nside=nside))\n",
    "\n",
    "    bfs.append(fs.North_south_patch_basis_function(zenith_min_alt=50., nside=nside))\n",
    "    #bfs.append(fs.Zenith_mask_basis_function(maxAlt=78., penalty=-100, nside=nside))\n",
    "    bfs.append(fs.Slewtime_basis_function(filtername=filtername, nside=nside))\n",
    "    bfs.append(fs.Strict_filter_basis_function(filtername=filtername))\n",
    "\n",
    "    weights = np.array([3.0, 0.3, 1., 3., 3.])\n",
    "    surveys.append(fs.Greedy_survey_fields(bfs, weights, block_size=1, filtername=filtername,\n",
    "                                           dither=True, nside=nside))\n",
    "\n",
    "surveys.append(fs.Pairs_survey_scripted([], [], ignore_obs='DD'))\n",
    "\n",
    "# Set up the DD\n",
    "dd_surveys = fs.generate_dd_surveys()\n",
    "surveys.extend(dd_surveys)\n",
    "\n",
    "scheduler = fs.Core_scheduler(surveys, nside=nside)\n",
    "observatory = Speed_observatory(nside=nside)\n",
    "observatory, scheduler, observations = fs.sim_runner(observatory, scheduler,\n",
    "                                                     survey_length=survey_length,\n",
    "                                                     filename='feature_baseline_%iyrs.db' % years,\n",
    "                                                     delete_past=True)\n"
   ]
  },
  {
   "cell_type": "code",
   "execution_count": 3,
   "metadata": {},
   "outputs": [
    {
     "data": {
      "text/plain": [
       "True"
      ]
     },
     "execution_count": 3,
     "metadata": {},
     "output_type": "execute_result"
    }
   ],
   "source": [
    "# Check that there's nothing in the queue\n",
    "len(scheduler.queue) == 0"
   ]
  },
  {
   "cell_type": "code",
   "execution_count": 4,
   "metadata": {},
   "outputs": [
    {
     "name": "stdout",
     "output_type": "stream",
     "text": [
      "0.009380738250911236  s\n"
     ]
    }
   ],
   "source": [
    "number = 20\n",
    "t = timeit.timeit(\"scheduler.request_observation()\", setup=\"from __main__ import scheduler\", number=number)\n",
    "print(t/number, ' s')"
   ]
  },
  {
   "cell_type": "code",
   "execution_count": 5,
   "metadata": {},
   "outputs": [
    {
     "name": "stdout",
     "output_type": "stream",
     "text": [
      "0.008899299602489918  s\n"
     ]
    }
   ],
   "source": [
    "# Let's see what happens if we wipe out the pair queue\n",
    "scheduler.surveys[6].observing_queue = []\n",
    "t = timeit.timeit(\"scheduler.request_observation()\", setup=\"from __main__ import scheduler\", number=number)\n",
    "print(t/number, ' s')"
   ]
  },
  {
   "cell_type": "code",
   "execution_count": null,
   "metadata": {
    "collapsed": true
   },
   "outputs": [],
   "source": []
  }
 ],
 "metadata": {
  "kernelspec": {
   "display_name": "Python 3",
   "language": "python",
   "name": "python3"
  },
  "language_info": {
   "codemirror_mode": {
    "name": "ipython",
    "version": 3
   },
   "file_extension": ".py",
   "mimetype": "text/x-python",
   "name": "python",
   "nbconvert_exporter": "python",
   "pygments_lexer": "ipython3",
   "version": "3.6.2"
  }
 },
 "nbformat": 4,
 "nbformat_minor": 2
}
