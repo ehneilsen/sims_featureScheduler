{
 "cells": [
  {
   "cell_type": "code",
   "execution_count": 1,
   "metadata": {},
   "outputs": [],
   "source": [
    "# Notebook showing how one might restore a run to a given point and inspect the reward function"
   ]
  },
  {
   "cell_type": "code",
   "execution_count": 1,
   "metadata": {},
   "outputs": [
    {
     "name": "stderr",
     "output_type": "stream",
     "text": [
      "/Users/yoachim/gitRepos/sims_featureScheduler/python/lsst/sims/featureScheduler/utils.py:27: UserWarning: Could not import ts.scheduler. This is required to load the FieldsDatabase. In this case\n",
      "it will fallback to loading fields from the local \"fieldID.lis\" file.\n",
      "  it will fallback to loading fields from the local \"fieldID.lis\" file.''')\n"
     ]
    }
   ],
   "source": [
    "import numpy as np\n",
    "import lsst.sims.featureScheduler as fs\n",
    "from lsst.sims.speedObservatory import Speed_observatory\n",
    "import matplotlib.pylab as plt\n",
    "import healpy as hp\n",
    "from lsst.sims.utils import _hpid2RaDec"
   ]
  },
  {
   "cell_type": "code",
   "execution_count": 2,
   "metadata": {},
   "outputs": [],
   "source": [
    "# Want to load up a saved survey and inspect it at a point where things were strange\n",
    "observations = fs.sqlite2observations('block_test1yrs.db')"
   ]
  },
  {
   "cell_type": "code",
   "execution_count": 3,
   "metadata": {},
   "outputs": [],
   "source": [
    "# Configure the scheduler the way it was before.  Might be nice to save a copy of the staring scheduler from now on.\n",
    "\n",
    "# Get rid of the silly north stripe\n",
    "def standard_goals(nside=None):\n",
    "    \"\"\"\n",
    "    A quick function to generate the \"standard\" goal maps.\n",
    "    \"\"\"\n",
    "    # Find the number of healpixels we expect to observe per observation\n",
    "    if nside is None:\n",
    "        nside = fs.set_default_nside()\n",
    "\n",
    "    result = {}\n",
    "    result['u'] = fs.generate_goal_map(nside=nside, NES_fraction=0.,\n",
    "                                    WFD_fraction=0.31, SCP_fraction=0.15,\n",
    "                                    GP_fraction=0.15, WFD_upper_edge_fraction=0.)\n",
    "    result['g'] = fs.generate_goal_map(nside=nside, NES_fraction=0.2,\n",
    "                                    WFD_fraction=0.44, SCP_fraction=0.15,\n",
    "                                    GP_fraction=0.15, WFD_upper_edge_fraction=0.)\n",
    "    result['r'] = fs.generate_goal_map(nside=nside, NES_fraction=0.46,\n",
    "                                    WFD_fraction=1.0, SCP_fraction=0.15,\n",
    "                                    GP_fraction=0.15, WFD_upper_edge_fraction=0.)\n",
    "    result['i'] = fs.generate_goal_map(nside=nside, NES_fraction=0.46,\n",
    "                                    WFD_fraction=1.0, SCP_fraction=0.15,\n",
    "                                    GP_fraction=0.15, WFD_upper_edge_fraction=0.)\n",
    "    result['z'] = fs.generate_goal_map(nside=nside, NES_fraction=0.4,\n",
    "                                    WFD_fraction=0.9, SCP_fraction=0.15,\n",
    "                                    GP_fraction=0.15, WFD_upper_edge_fraction=0.)\n",
    "    result['y'] = fs.generate_goal_map(nside=nside, NES_fraction=0.,\n",
    "                                       WFD_fraction=0.9, SCP_fraction=0.15,\n",
    "                                       GP_fraction=0.15,\n",
    "                                       WFD_upper_edge_fraction=0.)\n",
    "\n",
    "    return result\n",
    "\n",
    "nside = fs.set_default_nside(nside=32)\n",
    "\n",
    "\n",
    "# Let's set up some alt_az maps\n",
    "alt_az_blockmaps = []\n",
    "# Bump up nside to make interpolation work\n",
    "hpids = np.arange(hp.nside2npix(nside*2))\n",
    "az, alt = _hpid2RaDec(nside*2, hpids)\n",
    "\n",
    "alt_low_limit = np.radians(20.)\n",
    "alt_high_limit = np.radians(82.)\n",
    "az_half_width = np.radians(15.)\n",
    "\n",
    "blank_map = hpids *0.\n",
    "good = np.where( ((az > 2.*np.pi-az_half_width) | (az < az_half_width)) &\n",
    "                (alt > alt_low_limit) & (alt < alt_high_limit))\n",
    "new_map = blank_map +0\n",
    "new_map[good] = 1\n",
    "alt_az_blockmaps.append(new_map)\n",
    "\n",
    "good = np.where(((az > np.pi-az_half_width) & (az < np.pi+az_half_width)) &\n",
    "                (alt > alt_low_limit) & (alt < alt_high_limit))\n",
    "new_map = blank_map +0\n",
    "new_map[good] = 1\n",
    "alt_az_blockmaps.append(new_map)\n",
    "\n",
    "# let's expand this one a bit\n",
    "good = np.where((az > np.pi/2 - az_half_width*2) & (az < np.pi/2+az_half_width*2) & \n",
    "               (alt > alt_low_limit) & (alt < alt_high_limit))\n",
    "new_map = blank_map +0\n",
    "new_map[good] = 1\n",
    "alt_az_blockmaps.append(new_map)\n",
    "\n",
    "# get rid of silly northern strip.\n",
    "target_map = standard_goals(nside=nside)\n",
    "\n",
    "#filters = ['u', 'g', 'r', 'i', 'z', 'y']\n",
    "filters = ['r']\n",
    "surveys = []\n",
    "\n",
    "# To really get going, could use m5 and target map of multiple filters. Then \n",
    "# it'll pick the block scheduler that is best for both filters.\n",
    "for filtername in filters:\n",
    "    bfs = []\n",
    "    bfs.append(fs.M5_diff_basis_function(filtername=filtername, nside=nside))\n",
    "    bfs.append(fs.Target_map_basis_function(filtername=filtername,\n",
    "                                            target_map=target_map[filtername],\n",
    "                                            out_of_bounds_val=hp.UNSEEN, nside=nside))\n",
    "    bfs.append(fs.Slewtime_basis_function(filtername=filtername, nside=nside))\n",
    "    # I think this will help make patches more clumpy\n",
    "    bfs.append(fs.Constant_basis_function())\n",
    "    # XXX--put a huge boost on staying in the filter. Until I can tier surveys as list-of-lists\n",
    "    weights = np.array([3.0, 0.3, 3., 50.])\n",
    "    # Might want to try ignoring DD observations here, so the DD area gets covered normally--DONE\n",
    "    surveys.append(fs.Block_survey(bfs, weights, filtername=filtername,\n",
    "                                   dither=True, nside=nside, ignore_obs='DD',\n",
    "                                   alt_az_masks=alt_az_blockmaps))\n",
    "    \n",
    "# Let's set up a standard survey as well to fill in the gaps\n",
    "filtername = 'y'\n",
    "bfs = []\n",
    "bfs.append(fs.M5_diff_basis_function(filtername=filtername, nside=nside))\n",
    "bfs.append(fs.Target_map_basis_function(filtername=filtername,\n",
    "                                        target_map=target_map[filtername],\n",
    "                                        out_of_bounds_val=hp.UNSEEN, nside=nside))\n",
    "\n",
    "bfs.append(fs.North_south_patch_basis_function(zenith_min_alt=50., nside=nside))\n",
    "#bfs.append(fs.Zenith_mask_basis_function(maxAlt=78., penalty=-100, nside=nside))\n",
    "bfs.append(fs.Slewtime_basis_function(filtername=filtername, nside=nside))\n",
    "bfs.append(fs.Strict_filter_basis_function(filtername=filtername))\n",
    "\n",
    "# Put a negative on the filter change so I try to get out of this filter when possible\n",
    "weights = np.array([3.0, 0.3, 1., 3., -4.])\n",
    "# Might want to try ignoring DD observations here, so the DD area gets covered normally--DONE\n",
    "surveys.append(fs.Greedy_survey_fields(bfs, weights, block_size=1, filtername=filtername,\n",
    "                                       dither=True, nside=nside, ignore_obs='DD'))\n",
    "scheduler = fs.Core_scheduler(surveys, nside=nside)"
   ]
  },
  {
   "cell_type": "code",
   "execution_count": 4,
   "metadata": {},
   "outputs": [
    {
     "name": "stderr",
     "output_type": "stream",
     "text": [
      "WARNING: ErfaWarning: ERFA function \"d2dtf\" yielded 1 of \"dubious year (Note 5)\" [astropy._erfa.core]\n"
     ]
    }
   ],
   "source": [
    "# set up the observatory\n",
    "observatory = Speed_observatory(nside=nside, quickTest=True)"
   ]
  },
  {
   "cell_type": "code",
   "execution_count": 5,
   "metadata": {},
   "outputs": [
    {
     "data": {
      "text/plain": [
       "(59695, 59710)"
      ]
     },
     "execution_count": 5,
     "metadata": {},
     "output_type": "execute_result"
    },
    {
     "data": {
      "image/png": "[encoded data removed]",
      "text/plain": [
       "<matplotlib.figure.Figure at 0x1222ace80>"
      ]
     },
     "metadata": {},
     "output_type": "display_data"
    }
   ],
   "source": [
    "plt.scatter(observations['mjd'], observations['sunAlt'], c=observations['filter'])\n",
    "plt.xlabel('MJD')\n",
    "plt.ylabel('sun altitude')\n",
    "#plt.xlim([observations['mjd'].min()+1, observations['mjd'].min()+5.4])\n",
    "plt.xlim([59695, 59710])"
   ]
  },
  {
   "cell_type": "code",
   "execution_count": 6,
   "metadata": {},
   "outputs": [
    {
     "data": {
      "text/plain": [
       "array([ 47330,  47331,  47332, ..., 108431, 108432, 108433])"
      ]
     },
     "execution_count": 6,
     "metadata": {},
     "output_type": "execute_result"
    }
   ],
   "source": [
    "np.where((observations['mjd'] > 59702) & (observations['sunAlt'] < -1.2) & (observations['filter'] == 'y'))[0]"
   ]
  },
  {
   "cell_type": "code",
   "execution_count": 7,
   "metadata": {},
   "outputs": [],
   "source": [
    "# play observations back into scheduler\n",
    "obs_max = 47332\n",
    "for obs in observations[0:obs_max]:\n",
    "    scheduler.add_observation(obs)\n"
   ]
  },
  {
   "cell_type": "code",
   "execution_count": 8,
   "metadata": {},
   "outputs": [
    {
     "name": "stderr",
     "output_type": "stream",
     "text": [
      "/Users/yoachim/gitRepos/sims_seeingModel/python/lsst/sims/seeingModel/seeingModel.py:133: RuntimeWarning: invalid value encountered in power\n",
      "  airmass_correction = np.power(airmass, 0.6)\n"
     ]
    }
   ],
   "source": [
    "# set the observatory up about right\n",
    "observatory.set_mjd(obs['mjd'])\n",
    "observatory.ra = obs['RA']\n",
    "observatory.dec = obs['dec']\n",
    "status = observatory.return_status()\n",
    "scheduler.update_conditions(status)"
   ]
  },
  {
   "cell_type": "code",
   "execution_count": 9,
   "metadata": {},
   "outputs": [
    {
     "data": {
      "text/plain": [
       "True"
      ]
     },
     "execution_count": 9,
     "metadata": {},
     "output_type": "execute_result"
    }
   ],
   "source": [
    "scheduler.surveys[0]._check_feasability()"
   ]
  },
  {
   "cell_type": "code",
   "execution_count": 12,
   "metadata": {},
   "outputs": [
    {
     "data": {
      "image/png": "[encoded data removed]",
      "text/plain": [
       "<matplotlib.figure.Figure at 0x11d45a9b0>"
      ]
     },
     "metadata": {},
     "output_type": "display_data"
    }
   ],
   "source": [
    "hp.mollview(scheduler.surveys[0].calc_reward_function())"
   ]
  },
  {
   "cell_type": "code",
   "execution_count": null,
   "metadata": {},
   "outputs": [],
   "source": []
  }
 ],
 "metadata": {
  "kernelspec": {
   "display_name": "Python 3",
   "language": "python",
   "name": "python3"
  },
  "language_info": {
   "codemirror_mode": {
    "name": "ipython",
    "version": 3
   },
   "file_extension": ".py",
   "mimetype": "text/x-python",
   "name": "python",
   "nbconvert_exporter": "python",
   "pygments_lexer": "ipython3",
   "version": "3.6.2"
  }
 },
 "nbformat": 4,
 "nbformat_minor": 2
}
